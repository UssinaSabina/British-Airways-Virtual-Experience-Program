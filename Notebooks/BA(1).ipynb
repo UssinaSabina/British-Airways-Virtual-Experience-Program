{
 "cells": [
  {
   "cell_type": "markdown",
   "id": "785e9f94",
   "metadata": {},
   "source": [
    "# Web Scraping "
   ]
  },
  {
   "cell_type": "code",
   "execution_count": 1,
   "id": "9ee019e0",
   "metadata": {},
   "outputs": [],
   "source": [
    "# import libraries\n",
    "from bs4 import BeautifulSoup\n",
    "import requests\n",
    "import pandas as pd\n",
    "import numpy as np\n",
    "import math\n",
    "import matplotlib.pyplot as plt"
   ]
  },
  {
   "cell_type": "markdown",
   "id": "482c4d28",
   "metadata": {},
   "source": [
    "We'll create 2 datasets: one - containing ratings that reviewers gave (values from the tables on the website), and another - containing only text reviews. For the 1st dataset we'll perform EDA and for the 2nd - Sentiment Analysis"
   ]
  },
  {
   "cell_type": "code",
   "execution_count": 2,
   "id": "a9217b6a",
   "metadata": {},
   "outputs": [],
   "source": [
    "columns = ['Date Flown','Aircraft','Type Of Traveller','Seat Type','Seat Comfort','Cabin Staff Service','Food & Beverages',\n",
    "               'Inflight Entertainment','Ground Service','Value For Money','Wifi & Connectivity','Recommended']\n",
    "# create 2 dataframes\n",
    "df = pd.DataFrame(columns=columns)\n",
    "df2 = pd.DataFrame(columns=['Text'])\n",
    "\n",
    "temp_row1 = 0\n",
    "temp_row2 = 0\n",
    "\n",
    "# web scraping and adding values to our new dataframe\n",
    "for i in range(1, math.ceil(3423/100)+1):\n",
    "    URL = f'https://www.airlinequality.com/airline-reviews/british-airways/page/{i}/?sortby=post_date%3ADesc&pagesize=100'\n",
    "\n",
    "    page = requests.get(URL)\n",
    "\n",
    "    soup = BeautifulSoup(page.content, 'html.parser')\n",
    "\n",
    "    reviews = soup.find_all('div', class_ = 'body')\n",
    "\n",
    "    for review in reviews:\n",
    "        table = review.find('table')\n",
    "        fields = table.find_all('tr')\n",
    "        for field in fields:\n",
    "            attribute = field.find_all('td')[0].text\n",
    "            value = field.find_all('td')[1].text\n",
    "            rating = len(field.find_all('td')[1].find_all('span', class_ = \"star fill\"))\n",
    "            if attribute in columns:\n",
    "                if rating == 0:\n",
    "                    df.loc[temp_row1, attribute] = value\n",
    "                else:\n",
    "                    df.loc[temp_row1, attribute] = rating\n",
    "        temp_row1 += 1\n",
    "    \n",
    "    texts = soup.find_all('div', class_ = 'text_content')\n",
    "    \n",
    "    for text in texts:\n",
    "        text = text.text[15:]        # without 'Trip Verified'/ 'Not Verified'\n",
    "        df2.loc[temp_row2,'Text'] = text            # add value to dataframe\n",
    "        temp_row2 += 1"
   ]
  },
  {
   "cell_type": "markdown",
   "id": "cf408958",
   "metadata": {},
   "source": [
    "# Quick EDA"
   ]
  },
  {
   "cell_type": "code",
   "execution_count": 3,
   "id": "e095a305",
   "metadata": {},
   "outputs": [],
   "source": [
    "df1 = df.copy()"
   ]
  },
  {
   "cell_type": "code",
   "execution_count": 4,
   "id": "76fad236",
   "metadata": {},
   "outputs": [
    {
     "name": "stdout",
     "output_type": "stream",
     "text": [
      "<class 'pandas.core.frame.DataFrame'>\n",
      "Int64Index: 3440 entries, 0 to 3439\n",
      "Data columns (total 12 columns):\n",
      " #   Column                  Non-Null Count  Dtype \n",
      "---  ------                  --------------  ----- \n",
      " 0   Date Flown              2662 non-null   object\n",
      " 1   Aircraft                1797 non-null   object\n",
      " 2   Type Of Traveller       2670 non-null   object\n",
      " 3   Seat Type               3438 non-null   object\n",
      " 4   Seat Comfort            3342 non-null   object\n",
      " 5   Cabin Staff Service     3334 non-null   object\n",
      " 6   Food & Beverages        3108 non-null   object\n",
      " 7   Inflight Entertainment  2421 non-null   object\n",
      " 8   Ground Service          2604 non-null   object\n",
      " 9   Value For Money         3440 non-null   object\n",
      " 10  Wifi & Connectivity     508 non-null    object\n",
      " 11  Recommended             3440 non-null   object\n",
      "dtypes: object(12)\n",
      "memory usage: 478.4+ KB\n"
     ]
    }
   ],
   "source": [
    "df1.info()"
   ]
  },
  {
   "cell_type": "code",
   "execution_count": 5,
   "id": "dd71f6cf",
   "metadata": {},
   "outputs": [
    {
     "data": {
      "text/html": [
       "<div>\n",
       "<style scoped>\n",
       "    .dataframe tbody tr th:only-of-type {\n",
       "        vertical-align: middle;\n",
       "    }\n",
       "\n",
       "    .dataframe tbody tr th {\n",
       "        vertical-align: top;\n",
       "    }\n",
       "\n",
       "    .dataframe thead th {\n",
       "        text-align: right;\n",
       "    }\n",
       "</style>\n",
       "<table border=\"1\" class=\"dataframe\">\n",
       "  <thead>\n",
       "    <tr style=\"text-align: right;\">\n",
       "      <th></th>\n",
       "      <th>Date Flown</th>\n",
       "      <th>Aircraft</th>\n",
       "      <th>Type Of Traveller</th>\n",
       "      <th>Seat Type</th>\n",
       "      <th>Seat Comfort</th>\n",
       "      <th>Cabin Staff Service</th>\n",
       "      <th>Food &amp; Beverages</th>\n",
       "      <th>Inflight Entertainment</th>\n",
       "      <th>Ground Service</th>\n",
       "      <th>Value For Money</th>\n",
       "      <th>Wifi &amp; Connectivity</th>\n",
       "      <th>Recommended</th>\n",
       "    </tr>\n",
       "  </thead>\n",
       "  <tbody>\n",
       "    <tr>\n",
       "      <th>0</th>\n",
       "      <td>December 2022</td>\n",
       "      <td>A320</td>\n",
       "      <td>Solo Leisure</td>\n",
       "      <td>Economy Class</td>\n",
       "      <td>2</td>\n",
       "      <td>3</td>\n",
       "      <td>NaN</td>\n",
       "      <td>NaN</td>\n",
       "      <td>1</td>\n",
       "      <td>1</td>\n",
       "      <td>NaN</td>\n",
       "      <td>no</td>\n",
       "    </tr>\n",
       "    <tr>\n",
       "      <th>1</th>\n",
       "      <td>October 2022</td>\n",
       "      <td>NaN</td>\n",
       "      <td>Business</td>\n",
       "      <td>Business Class</td>\n",
       "      <td>3</td>\n",
       "      <td>4</td>\n",
       "      <td>3</td>\n",
       "      <td>NaN</td>\n",
       "      <td>1</td>\n",
       "      <td>1</td>\n",
       "      <td>NaN</td>\n",
       "      <td>no</td>\n",
       "    </tr>\n",
       "    <tr>\n",
       "      <th>2</th>\n",
       "      <td>December 2022</td>\n",
       "      <td>NaN</td>\n",
       "      <td>Solo Leisure</td>\n",
       "      <td>Economy Class</td>\n",
       "      <td>2</td>\n",
       "      <td>2</td>\n",
       "      <td>2</td>\n",
       "      <td>2</td>\n",
       "      <td>1</td>\n",
       "      <td>1</td>\n",
       "      <td>NaN</td>\n",
       "      <td>no</td>\n",
       "    </tr>\n",
       "    <tr>\n",
       "      <th>3</th>\n",
       "      <td>November 2022</td>\n",
       "      <td>NaN</td>\n",
       "      <td>Couple Leisure</td>\n",
       "      <td>Premium Economy</td>\n",
       "      <td>4</td>\n",
       "      <td>1</td>\n",
       "      <td>1</td>\n",
       "      <td>3</td>\n",
       "      <td>1</td>\n",
       "      <td>1</td>\n",
       "      <td>NaN</td>\n",
       "      <td>no</td>\n",
       "    </tr>\n",
       "    <tr>\n",
       "      <th>4</th>\n",
       "      <td>December 2022</td>\n",
       "      <td>NaN</td>\n",
       "      <td>Solo Leisure</td>\n",
       "      <td>Premium Economy</td>\n",
       "      <td>3</td>\n",
       "      <td>5</td>\n",
       "      <td>4</td>\n",
       "      <td>3</td>\n",
       "      <td>1</td>\n",
       "      <td>4</td>\n",
       "      <td>NaN</td>\n",
       "      <td>no</td>\n",
       "    </tr>\n",
       "  </tbody>\n",
       "</table>\n",
       "</div>"
      ],
      "text/plain": [
       "      Date Flown Aircraft Type Of Traveller        Seat Type Seat Comfort  \\\n",
       "0  December 2022     A320      Solo Leisure    Economy Class            2   \n",
       "1   October 2022      NaN          Business   Business Class            3   \n",
       "2  December 2022      NaN      Solo Leisure    Economy Class            2   \n",
       "3  November 2022      NaN    Couple Leisure  Premium Economy            4   \n",
       "4  December 2022      NaN      Solo Leisure  Premium Economy            3   \n",
       "\n",
       "  Cabin Staff Service Food & Beverages Inflight Entertainment Ground Service  \\\n",
       "0                   3              NaN                    NaN              1   \n",
       "1                   4                3                    NaN              1   \n",
       "2                   2                2                      2              1   \n",
       "3                   1                1                      3              1   \n",
       "4                   5                4                      3              1   \n",
       "\n",
       "  Value For Money Wifi & Connectivity Recommended  \n",
       "0               1                 NaN          no  \n",
       "1               1                 NaN          no  \n",
       "2               1                 NaN          no  \n",
       "3               1                 NaN          no  \n",
       "4               4                 NaN          no  "
      ]
     },
     "execution_count": 5,
     "metadata": {},
     "output_type": "execute_result"
    }
   ],
   "source": [
    "df1.head()"
   ]
  },
  {
   "cell_type": "code",
   "execution_count": 6,
   "id": "da5b3415",
   "metadata": {},
   "outputs": [],
   "source": [
    "# fill missing values in columns containing ratings (4:10) with corresponding median value \n",
    "for col in df1.iloc[:, 4:11].columns:\n",
    "    df1[col].replace('N/A', np.nan, inplace=True)\n",
    "    df1[col] = df1[col].astype('Int64').fillna(df1[col].median())\n",
    "    \n",
    "df1['Recommended'].replace(['yes', 'no'], [1, 0], inplace = True)                    # yes/no --> 1/0"
   ]
  },
  {
   "cell_type": "code",
   "execution_count": 7,
   "id": "e05c73e4",
   "metadata": {},
   "outputs": [
    {
     "data": {
      "text/html": [
       "<div>\n",
       "<style scoped>\n",
       "    .dataframe tbody tr th:only-of-type {\n",
       "        vertical-align: middle;\n",
       "    }\n",
       "\n",
       "    .dataframe tbody tr th {\n",
       "        vertical-align: top;\n",
       "    }\n",
       "\n",
       "    .dataframe thead th {\n",
       "        text-align: right;\n",
       "    }\n",
       "</style>\n",
       "<table border=\"1\" class=\"dataframe\">\n",
       "  <thead>\n",
       "    <tr style=\"text-align: right;\">\n",
       "      <th></th>\n",
       "      <th>Seat Type</th>\n",
       "      <th>Seat Comfort</th>\n",
       "      <th>Cabin Staff Service</th>\n",
       "      <th>Food &amp; Beverages</th>\n",
       "      <th>Inflight Entertainment</th>\n",
       "      <th>Ground Service</th>\n",
       "      <th>Value For Money</th>\n",
       "      <th>Wifi &amp; Connectivity</th>\n",
       "      <th>Recommended</th>\n",
       "    </tr>\n",
       "  </thead>\n",
       "  <tbody>\n",
       "    <tr>\n",
       "      <th>0</th>\n",
       "      <td>Economy Class</td>\n",
       "      <td>2</td>\n",
       "      <td>3</td>\n",
       "      <td>3</td>\n",
       "      <td>3</td>\n",
       "      <td>1</td>\n",
       "      <td>1</td>\n",
       "      <td>1</td>\n",
       "      <td>0</td>\n",
       "    </tr>\n",
       "    <tr>\n",
       "      <th>1</th>\n",
       "      <td>Business Class</td>\n",
       "      <td>3</td>\n",
       "      <td>4</td>\n",
       "      <td>3</td>\n",
       "      <td>3</td>\n",
       "      <td>1</td>\n",
       "      <td>1</td>\n",
       "      <td>1</td>\n",
       "      <td>0</td>\n",
       "    </tr>\n",
       "    <tr>\n",
       "      <th>2</th>\n",
       "      <td>Economy Class</td>\n",
       "      <td>2</td>\n",
       "      <td>2</td>\n",
       "      <td>2</td>\n",
       "      <td>2</td>\n",
       "      <td>1</td>\n",
       "      <td>1</td>\n",
       "      <td>1</td>\n",
       "      <td>0</td>\n",
       "    </tr>\n",
       "    <tr>\n",
       "      <th>3</th>\n",
       "      <td>Premium Economy</td>\n",
       "      <td>4</td>\n",
       "      <td>1</td>\n",
       "      <td>1</td>\n",
       "      <td>3</td>\n",
       "      <td>1</td>\n",
       "      <td>1</td>\n",
       "      <td>1</td>\n",
       "      <td>0</td>\n",
       "    </tr>\n",
       "    <tr>\n",
       "      <th>4</th>\n",
       "      <td>Premium Economy</td>\n",
       "      <td>3</td>\n",
       "      <td>5</td>\n",
       "      <td>4</td>\n",
       "      <td>3</td>\n",
       "      <td>1</td>\n",
       "      <td>4</td>\n",
       "      <td>1</td>\n",
       "      <td>0</td>\n",
       "    </tr>\n",
       "  </tbody>\n",
       "</table>\n",
       "</div>"
      ],
      "text/plain": [
       "         Seat Type  Seat Comfort  Cabin Staff Service  Food & Beverages  \\\n",
       "0    Economy Class             2                    3                 3   \n",
       "1   Business Class             3                    4                 3   \n",
       "2    Economy Class             2                    2                 2   \n",
       "3  Premium Economy             4                    1                 1   \n",
       "4  Premium Economy             3                    5                 4   \n",
       "\n",
       "   Inflight Entertainment  Ground Service  Value For Money  \\\n",
       "0                       3               1                1   \n",
       "1                       3               1                1   \n",
       "2                       2               1                1   \n",
       "3                       3               1                1   \n",
       "4                       3               1                4   \n",
       "\n",
       "   Wifi & Connectivity  Recommended  \n",
       "0                    1            0  \n",
       "1                    1            0  \n",
       "2                    1            0  \n",
       "3                    1            0  \n",
       "4                    1            0  "
      ]
     },
     "execution_count": 7,
     "metadata": {},
     "output_type": "execute_result"
    }
   ],
   "source": [
    "# drop unnecessary features \n",
    "df1 = df1.iloc[:, 3:]\n",
    "df1.head()"
   ]
  },
  {
   "cell_type": "code",
   "execution_count": 8,
   "id": "32ac0964",
   "metadata": {},
   "outputs": [
    {
     "data": {
      "text/html": [
       "<div>\n",
       "<style scoped>\n",
       "    .dataframe tbody tr th:only-of-type {\n",
       "        vertical-align: middle;\n",
       "    }\n",
       "\n",
       "    .dataframe tbody tr th {\n",
       "        vertical-align: top;\n",
       "    }\n",
       "\n",
       "    .dataframe thead th {\n",
       "        text-align: right;\n",
       "    }\n",
       "</style>\n",
       "<table border=\"1\" class=\"dataframe\">\n",
       "  <thead>\n",
       "    <tr style=\"text-align: right;\">\n",
       "      <th></th>\n",
       "      <th>Seat Comfort</th>\n",
       "      <th>Cabin Staff Service</th>\n",
       "      <th>Food &amp; Beverages</th>\n",
       "      <th>Inflight Entertainment</th>\n",
       "      <th>Ground Service</th>\n",
       "      <th>Value For Money</th>\n",
       "      <th>Wifi &amp; Connectivity</th>\n",
       "      <th>Recommended</th>\n",
       "    </tr>\n",
       "    <tr>\n",
       "      <th>Seat Type</th>\n",
       "      <th></th>\n",
       "      <th></th>\n",
       "      <th></th>\n",
       "      <th></th>\n",
       "      <th></th>\n",
       "      <th></th>\n",
       "      <th></th>\n",
       "      <th></th>\n",
       "    </tr>\n",
       "  </thead>\n",
       "  <tbody>\n",
       "    <tr>\n",
       "      <th>Business Class</th>\n",
       "      <td>3</td>\n",
       "      <td>4</td>\n",
       "      <td>3</td>\n",
       "      <td>3</td>\n",
       "      <td>3</td>\n",
       "      <td>3</td>\n",
       "      <td>1</td>\n",
       "      <td>0</td>\n",
       "    </tr>\n",
       "    <tr>\n",
       "      <th>Economy Class</th>\n",
       "      <td>3</td>\n",
       "      <td>3</td>\n",
       "      <td>3</td>\n",
       "      <td>3</td>\n",
       "      <td>3</td>\n",
       "      <td>3</td>\n",
       "      <td>1</td>\n",
       "      <td>0</td>\n",
       "    </tr>\n",
       "    <tr>\n",
       "      <th>First Class</th>\n",
       "      <td>4</td>\n",
       "      <td>4</td>\n",
       "      <td>3</td>\n",
       "      <td>3</td>\n",
       "      <td>3</td>\n",
       "      <td>3</td>\n",
       "      <td>1</td>\n",
       "      <td>0</td>\n",
       "    </tr>\n",
       "    <tr>\n",
       "      <th>Premium Economy</th>\n",
       "      <td>3</td>\n",
       "      <td>3</td>\n",
       "      <td>3</td>\n",
       "      <td>3</td>\n",
       "      <td>3</td>\n",
       "      <td>3</td>\n",
       "      <td>1</td>\n",
       "      <td>0</td>\n",
       "    </tr>\n",
       "  </tbody>\n",
       "</table>\n",
       "</div>"
      ],
      "text/plain": [
       "                 Seat Comfort  Cabin Staff Service  Food & Beverages  \\\n",
       "Seat Type                                                              \n",
       "Business Class              3                    4                 3   \n",
       "Economy Class               3                    3                 3   \n",
       "First Class                 4                    4                 3   \n",
       "Premium Economy             3                    3                 3   \n",
       "\n",
       "                 Inflight Entertainment  Ground Service  Value For Money  \\\n",
       "Seat Type                                                                  \n",
       "Business Class                        3               3                3   \n",
       "Economy Class                         3               3                3   \n",
       "First Class                           3               3                3   \n",
       "Premium Economy                       3               3                3   \n",
       "\n",
       "                 Wifi & Connectivity  Recommended  \n",
       "Seat Type                                          \n",
       "Business Class                     1            0  \n",
       "Economy Class                      1            0  \n",
       "First Class                        1            0  \n",
       "Premium Economy                    1            0  "
      ]
     },
     "execution_count": 8,
     "metadata": {},
     "output_type": "execute_result"
    }
   ],
   "source": [
    "# pivot table with ratings' median values estimated for each Seat Type\n",
    "ratings_by_SeatType = df1.groupby([\"Seat Type\"]).median().astype(int)\n",
    "ratings_by_SeatType"
   ]
  },
  {
   "cell_type": "code",
   "execution_count": 9,
   "id": "00145477",
   "metadata": {},
   "outputs": [
    {
     "name": "stderr",
     "output_type": "stream",
     "text": [
      "C:\\Users\\User\\AppData\\Local\\Temp/ipykernel_56792/2034191930.py:2: FutureWarning: Dropping of nuisance columns in DataFrame reductions (with 'numeric_only=None') is deprecated; in a future version this will raise TypeError.  Select only valid columns before calling the reduction.\n",
      "  avr = df1.median().astype(int)\n"
     ]
    },
    {
     "data": {
      "text/plain": [
       "Seat Comfort              3\n",
       "Cabin Staff Service       4\n",
       "Food & Beverages          3\n",
       "Inflight Entertainment    3\n",
       "Ground Service            3\n",
       "Value For Money           3\n",
       "Wifi & Connectivity       1\n",
       "Recommended               0\n",
       "dtype: int32"
      ]
     },
     "execution_count": 9,
     "metadata": {},
     "output_type": "execute_result"
    }
   ],
   "source": [
    "# ratings' median values\n",
    "avr = df1.median().astype(int)\n",
    "avr"
   ]
  },
  {
   "cell_type": "code",
   "execution_count": 36,
   "id": "aaa13cb2",
   "metadata": {},
   "outputs": [
    {
     "data": {
      "text/plain": [
       "0    0.579651\n",
       "1    0.420349\n",
       "Name: Recommended, dtype: float64"
      ]
     },
     "execution_count": 36,
     "metadata": {},
     "output_type": "execute_result"
    }
   ],
   "source": [
    "df1.Recommended.value_counts()/df1.Recommended.value_counts().sum()"
   ]
  },
  {
   "cell_type": "code",
   "execution_count": 11,
   "id": "25b3fc1f",
   "metadata": {},
   "outputs": [],
   "source": [
    "df.to_csv('raw_BritishAirwaysReviews.csv', na_rep='NaN', sep = ',')\n",
    "df1.to_csv('pretty_BritishAirwayReviews.csv', na_rep='NaN', sep=',')\n",
    "df2.to_csv('textReviews.csv', na_rep='NaN', sep=',')"
   ]
  },
  {
   "cell_type": "code",
   "execution_count": 12,
   "id": "16bfa3e2",
   "metadata": {},
   "outputs": [],
   "source": [
    "#df1 = pd.read_csv('pretty_BritishAirwayReviews.csv')"
   ]
  },
  {
   "cell_type": "markdown",
   "id": "aabb14a7",
   "metadata": {},
   "source": [
    "# Sentiment Analysis"
   ]
  },
  {
   "cell_type": "code",
   "execution_count": 13,
   "id": "462e4475",
   "metadata": {},
   "outputs": [
    {
     "data": {
      "text/html": [
       "<div>\n",
       "<style scoped>\n",
       "    .dataframe tbody tr th:only-of-type {\n",
       "        vertical-align: middle;\n",
       "    }\n",
       "\n",
       "    .dataframe tbody tr th {\n",
       "        vertical-align: top;\n",
       "    }\n",
       "\n",
       "    .dataframe thead th {\n",
       "        text-align: right;\n",
       "    }\n",
       "</style>\n",
       "<table border=\"1\" class=\"dataframe\">\n",
       "  <thead>\n",
       "    <tr style=\"text-align: right;\">\n",
       "      <th></th>\n",
       "      <th>Text</th>\n",
       "    </tr>\n",
       "  </thead>\n",
       "  <tbody>\n",
       "    <tr>\n",
       "      <th>0</th>\n",
       "      <td>BA cancelled my flight home to Heathrow on De...</td>\n",
       "    </tr>\n",
       "    <tr>\n",
       "      <th>1</th>\n",
       "      <td>BA cancelled my flight home, the last flight ...</td>\n",
       "    </tr>\n",
       "    <tr>\n",
       "      <th>2</th>\n",
       "      <td>| Turned up 3.5 hours in advance, Terminal 5 ...</td>\n",
       "    </tr>\n",
       "    <tr>\n",
       "      <th>3</th>\n",
       "      <td>Boarding – at gate at LGW they called Group 1...</td>\n",
       "    </tr>\n",
       "    <tr>\n",
       "      <th>4</th>\n",
       "      <td>|  Missing baggage customer service was the w...</td>\n",
       "    </tr>\n",
       "  </tbody>\n",
       "</table>\n",
       "</div>"
      ],
      "text/plain": [
       "                                                Text\n",
       "0   BA cancelled my flight home to Heathrow on De...\n",
       "1   BA cancelled my flight home, the last flight ...\n",
       "2   | Turned up 3.5 hours in advance, Terminal 5 ...\n",
       "3   Boarding – at gate at LGW they called Group 1...\n",
       "4   |  Missing baggage customer service was the w..."
      ]
     },
     "execution_count": 13,
     "metadata": {},
     "output_type": "execute_result"
    }
   ],
   "source": [
    "df2.head()"
   ]
  },
  {
   "cell_type": "code",
   "execution_count": 14,
   "id": "0e1998ef",
   "metadata": {},
   "outputs": [
    {
     "data": {
      "text/html": [
       "<div>\n",
       "<style scoped>\n",
       "    .dataframe tbody tr th:only-of-type {\n",
       "        vertical-align: middle;\n",
       "    }\n",
       "\n",
       "    .dataframe tbody tr th {\n",
       "        vertical-align: top;\n",
       "    }\n",
       "\n",
       "    .dataframe thead th {\n",
       "        text-align: right;\n",
       "    }\n",
       "</style>\n",
       "<table border=\"1\" class=\"dataframe\">\n",
       "  <thead>\n",
       "    <tr style=\"text-align: right;\">\n",
       "      <th></th>\n",
       "      <th>index</th>\n",
       "      <th>Text</th>\n",
       "    </tr>\n",
       "  </thead>\n",
       "  <tbody>\n",
       "    <tr>\n",
       "      <th>0</th>\n",
       "      <td>0</td>\n",
       "      <td>BA cancelled my flight home to Heathrow on De...</td>\n",
       "    </tr>\n",
       "    <tr>\n",
       "      <th>1</th>\n",
       "      <td>1</td>\n",
       "      <td>BA cancelled my flight home, the last flight ...</td>\n",
       "    </tr>\n",
       "    <tr>\n",
       "      <th>2</th>\n",
       "      <td>2</td>\n",
       "      <td>| Turned up 3.5 hours in advance, Terminal 5 ...</td>\n",
       "    </tr>\n",
       "    <tr>\n",
       "      <th>3</th>\n",
       "      <td>3</td>\n",
       "      <td>Boarding – at gate at LGW they called Group 1...</td>\n",
       "    </tr>\n",
       "    <tr>\n",
       "      <th>4</th>\n",
       "      <td>4</td>\n",
       "      <td>|  Missing baggage customer service was the w...</td>\n",
       "    </tr>\n",
       "  </tbody>\n",
       "</table>\n",
       "</div>"
      ],
      "text/plain": [
       "   index                                               Text\n",
       "0      0   BA cancelled my flight home to Heathrow on De...\n",
       "1      1   BA cancelled my flight home, the last flight ...\n",
       "2      2   | Turned up 3.5 hours in advance, Terminal 5 ...\n",
       "3      3   Boarding – at gate at LGW they called Group 1...\n",
       "4      4   |  Missing baggage customer service was the w..."
      ]
     },
     "execution_count": 14,
     "metadata": {},
     "output_type": "execute_result"
    }
   ],
   "source": [
    "df2 = df2.reset_index()\n",
    "df2.head()"
   ]
  },
  {
   "cell_type": "markdown",
   "id": "c40b2f4a",
   "metadata": {},
   "source": [
    "## Basic NLTK"
   ]
  },
  {
   "cell_type": "code",
   "execution_count": 15,
   "id": "fb396b29",
   "metadata": {},
   "outputs": [],
   "source": [
    "## Basic NLTK\n",
    "import nltk\n",
    "#nltk.download('punkt')\n",
    "#nltk.download(\"book\")\n",
    "#nltk.download('vader_lexicon') "
   ]
  },
  {
   "cell_type": "markdown",
   "id": "59ddffa7",
   "metadata": {},
   "source": [
    "Let's see how it works on a single example"
   ]
  },
  {
   "cell_type": "code",
   "execution_count": 16,
   "id": "fba62149",
   "metadata": {},
   "outputs": [
    {
     "data": {
      "text/plain": [
       "' |  British Airways personnel was just magnificent. My flight into London was delayed, security had long lines, I ran like a madman to find the gate closed but the plane was still there… the lady at the gate worked the computer at 200 miles an hour to allow me to board (the software program was already closed). This while the flight manager, who came towards the gate, urging her to make a decision since the plane was about to loose its take off spot in line. I was sweating from the run, still out of breath while she handed me my passport giving me the green light to board. I bolted again into the plane feeling bad that I did not personally thank her for her magic. I really hope she gets recognized by British Airways for her performance. Thank you for all you do !'"
      ]
     },
     "execution_count": 16,
     "metadata": {},
     "output_type": "execute_result"
    }
   ],
   "source": [
    "example = df2['Text'][50]                 \n",
    "example"
   ]
  },
  {
   "cell_type": "code",
   "execution_count": 17,
   "id": "55aa62a9",
   "metadata": {},
   "outputs": [
    {
     "data": {
      "text/plain": [
       "['|',\n",
       " 'British',\n",
       " 'Airways',\n",
       " 'personnel',\n",
       " 'was',\n",
       " 'just',\n",
       " 'magnificent',\n",
       " '.',\n",
       " 'My',\n",
       " 'flight']"
      ]
     },
     "execution_count": 17,
     "metadata": {},
     "output_type": "execute_result"
    }
   ],
   "source": [
    "tokens = nltk.word_tokenize(example)\n",
    "tokens[:10]"
   ]
  },
  {
   "cell_type": "code",
   "execution_count": 18,
   "id": "616a6561",
   "metadata": {},
   "outputs": [
    {
     "data": {
      "text/plain": [
       "[('|', 'JJ'),\n",
       " ('British', 'JJ'),\n",
       " ('Airways', 'NNP'),\n",
       " ('personnel', 'NN'),\n",
       " ('was', 'VBD'),\n",
       " ('just', 'RB'),\n",
       " ('magnificent', 'JJ'),\n",
       " ('.', '.'),\n",
       " ('My', 'PRP$'),\n",
       " ('flight', 'NN')]"
      ]
     },
     "execution_count": 18,
     "metadata": {},
     "output_type": "execute_result"
    }
   ],
   "source": [
    "tagged = nltk.pos_tag(tokens)\n",
    "tagged[:10]"
   ]
  },
  {
   "cell_type": "code",
   "execution_count": 19,
   "id": "1b1c67be",
   "metadata": {},
   "outputs": [
    {
     "name": "stdout",
     "output_type": "stream",
     "text": [
      "(S\n",
      "  |/JJ\n",
      "  (GPE British/JJ)\n",
      "  Airways/NNP\n",
      "  personnel/NN\n",
      "  was/VBD\n",
      "  just/RB\n",
      "  magnificent/JJ\n",
      "  ./.\n",
      "  My/PRP$\n",
      "  flight/NN\n",
      "  into/IN\n",
      "  (GPE London/NNP)\n",
      "  was/VBD\n",
      "  delayed/VBN\n",
      "  ,/,\n",
      "  security/NN\n",
      "  had/VBD\n",
      "  long/JJ\n",
      "  lines/NNS\n",
      "  ,/,\n",
      "  I/PRP\n",
      "  ran/VBP\n",
      "  like/IN\n",
      "  a/DT\n",
      "  madman/NN\n",
      "  to/TO\n",
      "  find/VB\n",
      "  the/DT\n",
      "  gate/NN\n",
      "  closed/VBD\n",
      "  but/CC\n",
      "  the/DT\n",
      "  plane/NN\n",
      "  was/VBD\n",
      "  still/RB\n",
      "  there…/VBZ\n",
      "  the/DT\n",
      "  lady/NN\n",
      "  at/IN\n",
      "  the/DT\n",
      "  gate/NN\n",
      "  worked/VBD\n",
      "  the/DT\n",
      "  computer/NN\n",
      "  at/IN\n",
      "  200/CD\n",
      "  miles/NNS\n",
      "  an/DT\n",
      "  hour/NN\n",
      "  to/TO\n",
      "  allow/VB\n",
      "  me/PRP\n",
      "  to/TO\n",
      "  board/NN\n",
      "  (/(\n",
      "  the/DT\n",
      "  software/NN\n",
      "  program/NN\n",
      "  was/VBD\n",
      "  already/RB\n",
      "  closed/VBN\n",
      "  )/)\n",
      "  ./.\n",
      "  This/DT\n",
      "  while/IN\n",
      "  the/DT\n",
      "  flight/NN\n",
      "  manager/NN\n",
      "  ,/,\n",
      "  who/WP\n",
      "  came/VBD\n",
      "  towards/IN\n",
      "  the/DT\n",
      "  gate/NN\n",
      "  ,/,\n",
      "  urging/VBG\n",
      "  her/PRP$\n",
      "  to/TO\n",
      "  make/VB\n",
      "  a/DT\n",
      "  decision/NN\n",
      "  since/IN\n",
      "  the/DT\n",
      "  plane/NN\n",
      "  was/VBD\n",
      "  about/IN\n",
      "  to/TO\n",
      "  loose/VB\n",
      "  its/PRP$\n",
      "  take/VB\n",
      "  off/RP\n",
      "  spot/NN\n",
      "  in/IN\n",
      "  line/NN\n",
      "  ./.\n",
      "  I/PRP\n",
      "  was/VBD\n",
      "  sweating/VBG\n",
      "  from/IN\n",
      "  the/DT\n",
      "  run/NN\n",
      "  ,/,\n",
      "  still/RB\n",
      "  out/IN\n",
      "  of/IN\n",
      "  breath/NN\n",
      "  while/IN\n",
      "  she/PRP\n",
      "  handed/VBD\n",
      "  me/PRP\n",
      "  my/PRP$\n",
      "  passport/NN\n",
      "  giving/VBG\n",
      "  me/PRP\n",
      "  the/DT\n",
      "  green/JJ\n",
      "  light/NN\n",
      "  to/TO\n",
      "  board/NN\n",
      "  ./.\n",
      "  I/PRP\n",
      "  bolted/VBD\n",
      "  again/RB\n",
      "  into/IN\n",
      "  the/DT\n",
      "  plane/NN\n",
      "  feeling/NN\n",
      "  bad/JJ\n",
      "  that/IN\n",
      "  I/PRP\n",
      "  did/VBD\n",
      "  not/RB\n",
      "  personally/RB\n",
      "  thank/VB\n",
      "  her/PRP$\n",
      "  for/IN\n",
      "  her/PRP$\n",
      "  magic/NN\n",
      "  ./.\n",
      "  I/PRP\n",
      "  really/RB\n",
      "  hope/VBP\n",
      "  she/PRP\n",
      "  gets/VBZ\n",
      "  recognized/VBN\n",
      "  by/IN\n",
      "  (GPE British/NNP)\n",
      "  Airways/NNP\n",
      "  for/IN\n",
      "  her/PRP$\n",
      "  performance/NN\n",
      "  ./.\n",
      "  Thank/NNP\n",
      "  you/PRP\n",
      "  for/IN\n",
      "  all/DT\n",
      "  you/PRP\n",
      "  do/VBP\n",
      "  !/.)\n"
     ]
    }
   ],
   "source": [
    "entities = nltk.chunk.ne_chunk(tagged)\n",
    "entities.pprint()"
   ]
  },
  {
   "cell_type": "markdown",
   "id": "8cbb86ae",
   "metadata": {},
   "source": [
    "## Vader Sentiment Scoring\n",
    "VADER (Valence Aware Dictionary and sEntiment Reasoner).\n",
    "We will use NLTK's SentimentIntensityAnalyzer to get the neg/neu/pos scores of the text.\n",
    "This uses a \"bag of words\" approach:\n",
    "1. Stop words are removed\n",
    "2. each word is scored and combined to a total score."
   ]
  },
  {
   "cell_type": "code",
   "execution_count": 20,
   "id": "20f2201c",
   "metadata": {},
   "outputs": [],
   "source": [
    "from nltk.sentiment import SentimentIntensityAnalyzer\n",
    "from tqdm.notebook import tqdm"
   ]
  },
  {
   "cell_type": "code",
   "execution_count": 21,
   "id": "997a2077",
   "metadata": {},
   "outputs": [],
   "source": [
    "sia = SentimentIntensityAnalyzer()"
   ]
  },
  {
   "cell_type": "code",
   "execution_count": 22,
   "id": "1601e553",
   "metadata": {},
   "outputs": [
    {
     "name": "stdout",
     "output_type": "stream",
     "text": [
      "{'neg': 0.451, 'neu': 0.549, 'pos': 0.0, 'compound': -0.6249}\n",
      "{'neg': 0.075, 'neu': 0.792, 'pos': 0.133, 'compound': 0.7973}\n"
     ]
    }
   ],
   "source": [
    "# let's see how it works\n",
    "print(sia.polarity_scores('This is the worst thing ever.'))\n",
    "print(sia.polarity_scores(example))"
   ]
  },
  {
   "cell_type": "code",
   "execution_count": 23,
   "id": "99fdb6d3",
   "metadata": {},
   "outputs": [
    {
     "data": {
      "application/vnd.jupyter.widget-view+json": {
       "model_id": "ece8dba8701b40d9b56074932ab8ec59",
       "version_major": 2,
       "version_minor": 0
      },
      "text/plain": [
       "  0%|          | 0/3440 [00:00<?, ?it/s]"
      ]
     },
     "metadata": {},
     "output_type": "display_data"
    }
   ],
   "source": [
    "# Run the polarity score on the entire dataset\n",
    "res = {}\n",
    "for i, row in tqdm(df2.iterrows(), total=len(df2)):\n",
    "    text = row['Text']\n",
    "    res[i] = sia.polarity_scores(text)"
   ]
  },
  {
   "cell_type": "code",
   "execution_count": 24,
   "id": "841b8e55",
   "metadata": {},
   "outputs": [
    {
     "data": {
      "text/html": [
       "<div>\n",
       "<style scoped>\n",
       "    .dataframe tbody tr th:only-of-type {\n",
       "        vertical-align: middle;\n",
       "    }\n",
       "\n",
       "    .dataframe tbody tr th {\n",
       "        vertical-align: top;\n",
       "    }\n",
       "\n",
       "    .dataframe thead th {\n",
       "        text-align: right;\n",
       "    }\n",
       "</style>\n",
       "<table border=\"1\" class=\"dataframe\">\n",
       "  <thead>\n",
       "    <tr style=\"text-align: right;\">\n",
       "      <th></th>\n",
       "      <th>index</th>\n",
       "      <th>neg</th>\n",
       "      <th>neu</th>\n",
       "      <th>pos</th>\n",
       "      <th>compound</th>\n",
       "      <th>Text</th>\n",
       "    </tr>\n",
       "  </thead>\n",
       "  <tbody>\n",
       "    <tr>\n",
       "      <th>0</th>\n",
       "      <td>0</td>\n",
       "      <td>0.150</td>\n",
       "      <td>0.832</td>\n",
       "      <td>0.018</td>\n",
       "      <td>-0.9535</td>\n",
       "      <td>BA cancelled my flight home to Heathrow on De...</td>\n",
       "    </tr>\n",
       "    <tr>\n",
       "      <th>1</th>\n",
       "      <td>1</td>\n",
       "      <td>0.109</td>\n",
       "      <td>0.840</td>\n",
       "      <td>0.051</td>\n",
       "      <td>-0.7686</td>\n",
       "      <td>BA cancelled my flight home, the last flight ...</td>\n",
       "    </tr>\n",
       "    <tr>\n",
       "      <th>2</th>\n",
       "      <td>2</td>\n",
       "      <td>0.170</td>\n",
       "      <td>0.771</td>\n",
       "      <td>0.059</td>\n",
       "      <td>-0.9360</td>\n",
       "      <td>| Turned up 3.5 hours in advance, Terminal 5 ...</td>\n",
       "    </tr>\n",
       "    <tr>\n",
       "      <th>3</th>\n",
       "      <td>3</td>\n",
       "      <td>0.011</td>\n",
       "      <td>0.896</td>\n",
       "      <td>0.093</td>\n",
       "      <td>0.9873</td>\n",
       "      <td>Boarding – at gate at LGW they called Group 1...</td>\n",
       "    </tr>\n",
       "    <tr>\n",
       "      <th>4</th>\n",
       "      <td>4</td>\n",
       "      <td>0.064</td>\n",
       "      <td>0.919</td>\n",
       "      <td>0.016</td>\n",
       "      <td>-0.8151</td>\n",
       "      <td>|  Missing baggage customer service was the w...</td>\n",
       "    </tr>\n",
       "  </tbody>\n",
       "</table>\n",
       "</div>"
      ],
      "text/plain": [
       "   index    neg    neu    pos  compound  \\\n",
       "0      0  0.150  0.832  0.018   -0.9535   \n",
       "1      1  0.109  0.840  0.051   -0.7686   \n",
       "2      2  0.170  0.771  0.059   -0.9360   \n",
       "3      3  0.011  0.896  0.093    0.9873   \n",
       "4      4  0.064  0.919  0.016   -0.8151   \n",
       "\n",
       "                                                Text  \n",
       "0   BA cancelled my flight home to Heathrow on De...  \n",
       "1   BA cancelled my flight home, the last flight ...  \n",
       "2   | Turned up 3.5 hours in advance, Terminal 5 ...  \n",
       "3   Boarding – at gate at LGW they called Group 1...  \n",
       "4   |  Missing baggage customer service was the w...  "
      ]
     },
     "execution_count": 24,
     "metadata": {},
     "output_type": "execute_result"
    }
   ],
   "source": [
    "vaders = pd.DataFrame(res).T\n",
    "vaders = vaders.reset_index().merge(df2, how='left')\n",
    "vaders.head()"
   ]
  },
  {
   "cell_type": "markdown",
   "id": "db1c93c1",
   "metadata": {},
   "source": [
    "## Roberta Pretrained Model\n",
    "- A model trained on a large corpus of data.\n",
    "- Transformer model accounts for the words but also the context related to other words."
   ]
  },
  {
   "cell_type": "code",
   "execution_count": 25,
   "id": "fcb8b20d",
   "metadata": {},
   "outputs": [],
   "source": [
    "from transformers import AutoTokenizer\n",
    "from transformers import AutoModelForSequenceClassification\n",
    "from scipy.special import softmax"
   ]
  },
  {
   "cell_type": "code",
   "execution_count": 26,
   "id": "c3adf3b1",
   "metadata": {},
   "outputs": [],
   "source": [
    "MODEL = f\"cardiffnlp/twitter-roberta-base-sentiment\"\n",
    "tokenizer = AutoTokenizer.from_pretrained(MODEL)\n",
    "model = AutoModelForSequenceClassification.from_pretrained(MODEL)"
   ]
  },
  {
   "cell_type": "code",
   "execution_count": 27,
   "id": "cd241251",
   "metadata": {},
   "outputs": [],
   "source": [
    "# Run Roberta Model on an example\n",
    "encoded_text = tokenizer(example, return_tensors='pt')\n",
    "output = model(**encoded_text)\n",
    "scores = output[0][0].detach().numpy()\n",
    "scores = softmax(scores)\n",
    "scores_dict = {\n",
    "    'roberta_neg': scores[0],\n",
    "    'roberta_neu': scores[1],\n",
    "    'roberta_pos': scores[2]\n",
    "}"
   ]
  },
  {
   "cell_type": "code",
   "execution_count": 28,
   "id": "db985215",
   "metadata": {},
   "outputs": [
    {
     "name": "stdout",
     "output_type": "stream",
     "text": [
      "{'neg': 0.075, 'neu': 0.792, 'pos': 0.133, 'compound': 0.7973}\n",
      "{'roberta_neg': 0.15425767, 'roberta_neu': 0.37080437, 'roberta_pos': 0.474938}\n"
     ]
    }
   ],
   "source": [
    "# Compare Vader and Roberta results\n",
    "print(sia.polarity_scores(example))\n",
    "print(scores_dict)"
   ]
  },
  {
   "cell_type": "code",
   "execution_count": 29,
   "id": "857ef0af",
   "metadata": {},
   "outputs": [],
   "source": [
    "def polarity_scores_roberta(example):\n",
    "    encoded_text = tokenizer(example, return_tensors='pt')\n",
    "    output = model(**encoded_text)\n",
    "    scores = output[0][0].detach().numpy()\n",
    "    scores = softmax(scores)\n",
    "    scores_dict = {\n",
    "        'roberta_neg': scores[0],\n",
    "        'roberta_neu': scores[1],\n",
    "        'roberta_pos': scores[2]\n",
    "    }\n",
    "    return scores_dict   "
   ]
  },
  {
   "cell_type": "code",
   "execution_count": 30,
   "id": "40845955",
   "metadata": {},
   "outputs": [
    {
     "data": {
      "application/vnd.jupyter.widget-view+json": {
       "model_id": "93d9dc5cb66a41ff9a10f7a837f44775",
       "version_major": 2,
       "version_minor": 0
      },
      "text/plain": [
       "  0%|          | 0/100 [00:00<?, ?it/s]"
      ]
     },
     "metadata": {},
     "output_type": "display_data"
    },
    {
     "name": "stdout",
     "output_type": "stream",
     "text": [
      "Broke for id 75\n",
      "Broke for id 95\n"
     ]
    }
   ],
   "source": [
    "# Combine Vader and Roberta results of the 1st 100 reviews (due to computer's capacity)\n",
    "res = {}\n",
    "for i, row in tqdm(df2[:100].iterrows(), total = 100):\n",
    "    try:\n",
    "        text = row['Text']\n",
    "        vader_result = sia.polarity_scores(text)\n",
    "        vader_result_rename = {}\n",
    "        for key, value in vader_result.items():\n",
    "            vader_result_rename[f\"vader_{key}\"] = value\n",
    "        roberta_result = polarity_scores_roberta(text)\n",
    "        both = {**vader_result_rename, **roberta_result}\n",
    "        res[i] = both\n",
    "    except RuntimeError:\n",
    "        print(f\"Broke for id {i}\")"
   ]
  },
  {
   "cell_type": "code",
   "execution_count": 31,
   "id": "e850d366",
   "metadata": {},
   "outputs": [
    {
     "data": {
      "text/html": [
       "<div>\n",
       "<style scoped>\n",
       "    .dataframe tbody tr th:only-of-type {\n",
       "        vertical-align: middle;\n",
       "    }\n",
       "\n",
       "    .dataframe tbody tr th {\n",
       "        vertical-align: top;\n",
       "    }\n",
       "\n",
       "    .dataframe thead th {\n",
       "        text-align: right;\n",
       "    }\n",
       "</style>\n",
       "<table border=\"1\" class=\"dataframe\">\n",
       "  <thead>\n",
       "    <tr style=\"text-align: right;\">\n",
       "      <th></th>\n",
       "      <th>index</th>\n",
       "      <th>vader_neg</th>\n",
       "      <th>vader_neu</th>\n",
       "      <th>vader_pos</th>\n",
       "      <th>vader_compound</th>\n",
       "      <th>roberta_neg</th>\n",
       "      <th>roberta_neu</th>\n",
       "      <th>roberta_pos</th>\n",
       "      <th>Text</th>\n",
       "    </tr>\n",
       "  </thead>\n",
       "  <tbody>\n",
       "    <tr>\n",
       "      <th>0</th>\n",
       "      <td>0</td>\n",
       "      <td>0.150</td>\n",
       "      <td>0.832</td>\n",
       "      <td>0.018</td>\n",
       "      <td>-0.9535</td>\n",
       "      <td>0.766331</td>\n",
       "      <td>0.201310</td>\n",
       "      <td>0.032359</td>\n",
       "      <td>BA cancelled my flight home to Heathrow on De...</td>\n",
       "    </tr>\n",
       "    <tr>\n",
       "      <th>1</th>\n",
       "      <td>1</td>\n",
       "      <td>0.109</td>\n",
       "      <td>0.840</td>\n",
       "      <td>0.051</td>\n",
       "      <td>-0.7686</td>\n",
       "      <td>0.654449</td>\n",
       "      <td>0.270956</td>\n",
       "      <td>0.074596</td>\n",
       "      <td>BA cancelled my flight home, the last flight ...</td>\n",
       "    </tr>\n",
       "    <tr>\n",
       "      <th>2</th>\n",
       "      <td>2</td>\n",
       "      <td>0.170</td>\n",
       "      <td>0.771</td>\n",
       "      <td>0.059</td>\n",
       "      <td>-0.9360</td>\n",
       "      <td>0.896497</td>\n",
       "      <td>0.093507</td>\n",
       "      <td>0.009996</td>\n",
       "      <td>| Turned up 3.5 hours in advance, Terminal 5 ...</td>\n",
       "    </tr>\n",
       "    <tr>\n",
       "      <th>3</th>\n",
       "      <td>3</td>\n",
       "      <td>0.011</td>\n",
       "      <td>0.896</td>\n",
       "      <td>0.093</td>\n",
       "      <td>0.9873</td>\n",
       "      <td>0.246401</td>\n",
       "      <td>0.513118</td>\n",
       "      <td>0.240482</td>\n",
       "      <td>Boarding – at gate at LGW they called Group 1...</td>\n",
       "    </tr>\n",
       "    <tr>\n",
       "      <th>4</th>\n",
       "      <td>4</td>\n",
       "      <td>0.064</td>\n",
       "      <td>0.919</td>\n",
       "      <td>0.016</td>\n",
       "      <td>-0.8151</td>\n",
       "      <td>0.775193</td>\n",
       "      <td>0.201326</td>\n",
       "      <td>0.023482</td>\n",
       "      <td>|  Missing baggage customer service was the w...</td>\n",
       "    </tr>\n",
       "    <tr>\n",
       "      <th>...</th>\n",
       "      <td>...</td>\n",
       "      <td>...</td>\n",
       "      <td>...</td>\n",
       "      <td>...</td>\n",
       "      <td>...</td>\n",
       "      <td>...</td>\n",
       "      <td>...</td>\n",
       "      <td>...</td>\n",
       "      <td>...</td>\n",
       "    </tr>\n",
       "    <tr>\n",
       "      <th>93</th>\n",
       "      <td>94</td>\n",
       "      <td>0.102</td>\n",
       "      <td>0.816</td>\n",
       "      <td>0.082</td>\n",
       "      <td>-0.5239</td>\n",
       "      <td>0.938021</td>\n",
       "      <td>0.054896</td>\n",
       "      <td>0.007083</td>\n",
       "      <td>Terrible experience with British Airways! I w...</td>\n",
       "    </tr>\n",
       "    <tr>\n",
       "      <th>94</th>\n",
       "      <td>96</td>\n",
       "      <td>0.008</td>\n",
       "      <td>0.947</td>\n",
       "      <td>0.046</td>\n",
       "      <td>0.6428</td>\n",
       "      <td>0.570666</td>\n",
       "      <td>0.387013</td>\n",
       "      <td>0.042321</td>\n",
       "      <td>|  Belfast to London on 20 Jun, 0650. I was i...</td>\n",
       "    </tr>\n",
       "    <tr>\n",
       "      <th>95</th>\n",
       "      <td>97</td>\n",
       "      <td>0.120</td>\n",
       "      <td>0.797</td>\n",
       "      <td>0.083</td>\n",
       "      <td>-0.3479</td>\n",
       "      <td>0.463944</td>\n",
       "      <td>0.355108</td>\n",
       "      <td>0.180948</td>\n",
       "      <td>The customer service of British Airways is re...</td>\n",
       "    </tr>\n",
       "    <tr>\n",
       "      <th>96</th>\n",
       "      <td>98</td>\n",
       "      <td>0.098</td>\n",
       "      <td>0.762</td>\n",
       "      <td>0.140</td>\n",
       "      <td>0.7347</td>\n",
       "      <td>0.128580</td>\n",
       "      <td>0.389591</td>\n",
       "      <td>0.481829</td>\n",
       "      <td>| BA is still charging premium airlines fares...</td>\n",
       "    </tr>\n",
       "    <tr>\n",
       "      <th>97</th>\n",
       "      <td>99</td>\n",
       "      <td>0.084</td>\n",
       "      <td>0.863</td>\n",
       "      <td>0.053</td>\n",
       "      <td>-0.5482</td>\n",
       "      <td>0.813018</td>\n",
       "      <td>0.162656</td>\n",
       "      <td>0.024326</td>\n",
       "      <td>|  This a new route which BA introduced at th...</td>\n",
       "    </tr>\n",
       "  </tbody>\n",
       "</table>\n",
       "<p>98 rows × 9 columns</p>\n",
       "</div>"
      ],
      "text/plain": [
       "    index  vader_neg  vader_neu  vader_pos  vader_compound  roberta_neg  \\\n",
       "0       0      0.150      0.832      0.018         -0.9535     0.766331   \n",
       "1       1      0.109      0.840      0.051         -0.7686     0.654449   \n",
       "2       2      0.170      0.771      0.059         -0.9360     0.896497   \n",
       "3       3      0.011      0.896      0.093          0.9873     0.246401   \n",
       "4       4      0.064      0.919      0.016         -0.8151     0.775193   \n",
       "..    ...        ...        ...        ...             ...          ...   \n",
       "93     94      0.102      0.816      0.082         -0.5239     0.938021   \n",
       "94     96      0.008      0.947      0.046          0.6428     0.570666   \n",
       "95     97      0.120      0.797      0.083         -0.3479     0.463944   \n",
       "96     98      0.098      0.762      0.140          0.7347     0.128580   \n",
       "97     99      0.084      0.863      0.053         -0.5482     0.813018   \n",
       "\n",
       "    roberta_neu  roberta_pos  \\\n",
       "0      0.201310     0.032359   \n",
       "1      0.270956     0.074596   \n",
       "2      0.093507     0.009996   \n",
       "3      0.513118     0.240482   \n",
       "4      0.201326     0.023482   \n",
       "..          ...          ...   \n",
       "93     0.054896     0.007083   \n",
       "94     0.387013     0.042321   \n",
       "95     0.355108     0.180948   \n",
       "96     0.389591     0.481829   \n",
       "97     0.162656     0.024326   \n",
       "\n",
       "                                                 Text  \n",
       "0    BA cancelled my flight home to Heathrow on De...  \n",
       "1    BA cancelled my flight home, the last flight ...  \n",
       "2    | Turned up 3.5 hours in advance, Terminal 5 ...  \n",
       "3    Boarding – at gate at LGW they called Group 1...  \n",
       "4    |  Missing baggage customer service was the w...  \n",
       "..                                                ...  \n",
       "93   Terrible experience with British Airways! I w...  \n",
       "94   |  Belfast to London on 20 Jun, 0650. I was i...  \n",
       "95   The customer service of British Airways is re...  \n",
       "96   | BA is still charging premium airlines fares...  \n",
       "97   |  This a new route which BA introduced at th...  \n",
       "\n",
       "[98 rows x 9 columns]"
      ]
     },
     "execution_count": 31,
     "metadata": {},
     "output_type": "execute_result"
    }
   ],
   "source": [
    "results_df = pd.DataFrame(res).T\n",
    "results_df = results_df.reset_index().merge(df2, how='left')\n",
    "results_df"
   ]
  },
  {
   "cell_type": "markdown",
   "id": "47c3bbb6",
   "metadata": {},
   "source": [
    "## Compare Vader and Roberta Results"
   ]
  },
  {
   "cell_type": "code",
   "execution_count": 32,
   "id": "7d7b5737",
   "metadata": {},
   "outputs": [
    {
     "data": {
      "image/png": "[encoded data removed]",
      "text/plain": [
       "<Figure size 1080x1080 with 42 Axes>"
      ]
     },
     "metadata": {
      "needs_background": "light"
     },
     "output_type": "display_data"
    }
   ],
   "source": [
    "import seaborn as sns\n",
    "sns.pairplot(data=results_df, \n",
    "             vars=['vader_neg', 'vader_neu', 'vader_pos',\n",
    "                  'roberta_neg', 'roberta_neu', 'roberta_pos'],\n",
    "             palette='tab10')\n",
    "plt.show()"
   ]
  },
  {
   "cell_type": "markdown",
   "id": "a5aa4a32",
   "metadata": {},
   "source": [
    "As we can see there are some sort of correlation between Vader and Roberta results"
   ]
  },
  {
   "cell_type": "markdown",
   "id": "03d2366c",
   "metadata": {},
   "source": [
    "# Results & Conlusions\n",
    "As we can see there are much more negative reviews than positive reviews"
   ]
  },
  {
   "cell_type": "code",
   "execution_count": 33,
   "id": "cc421d1e",
   "metadata": {
    "scrolled": false
   },
   "outputs": [
    {
     "data": {
      "image/png": "[encoded data removed]",
      "text/plain": [
       "<Figure size 432x288 with 1 Axes>"
      ]
     },
     "metadata": {
      "needs_background": "light"
     },
     "output_type": "display_data"
    }
   ],
   "source": [
    "#fig, ax = plt.subplots(2, 1, figsize=(16, 5))\n",
    "sns.histplot([results_df.query('roberta_neg >= 0.5')['roberta_neg'], \n",
    "              results_df.query('roberta_pos >= 0.5')['roberta_pos']],\n",
    "              palette = 'PuBu')\n",
    "plt.xlabel('Score')\n",
    "plt.title('Negative/Positive Reviews Comparative Histograms', fontsize=16)\n",
    "plt.show()"
   ]
  },
  {
   "cell_type": "markdown",
   "id": "387d6f2b",
   "metadata": {},
   "source": [
    "There are almost no neutral reviews. This means the majority of reviews were polarised as either positive or negative."
   ]
  },
  {
   "cell_type": "code",
   "execution_count": 34,
   "id": "fe98011d",
   "metadata": {},
   "outputs": [
    {
     "data": {
      "image/png": "[encoded data removed]",
      "text/plain": [
       "<Figure size 432x288 with 1 Axes>"
      ]
     },
     "metadata": {
      "needs_background": "light"
     },
     "output_type": "display_data"
    }
   ],
   "source": [
    "sns.histplot(results_df['roberta_neu'],  color = 'orange')\n",
    "plt.title('Neutral Reviews Score', fontsize=16)\n",
    "plt.xlabel('Score')\n",
    "plt.show()"
   ]
  },
  {
   "cell_type": "code",
   "execution_count": 35,
   "id": "7171e55d",
   "metadata": {},
   "outputs": [
    {
     "data": {
      "text/plain": [
       "Seat Comfort              3\n",
       "Cabin Staff Service       4\n",
       "Food & Beverages          3\n",
       "Inflight Entertainment    3\n",
       "Ground Service            3\n",
       "Value For Money           3\n",
       "Wifi & Connectivity       1\n",
       "Recommended               0\n",
       "dtype: int32"
      ]
     },
     "execution_count": 35,
     "metadata": {},
     "output_type": "execute_result"
    }
   ],
   "source": [
    "# ratings' median values (from 1 to 5)\n",
    "avr"
   ]
  },
  {
   "cell_type": "code",
   "execution_count": 37,
   "id": "36d82fa6",
   "metadata": {},
   "outputs": [
    {
     "data": {
      "text/plain": [
       "0    0.579651\n",
       "1    0.420349\n",
       "Name: Recommended, dtype: float64"
      ]
     },
     "execution_count": 37,
     "metadata": {},
     "output_type": "execute_result"
    }
   ],
   "source": [
    "df1.Recommended.value_counts()/df1.Recommended.value_counts().sum()"
   ]
  },
  {
   "cell_type": "markdown",
   "id": "837f6fff",
   "metadata": {},
   "source": [
    "So roughly 58 % of all customers do not recommend and 42 % recommend services of airline."
   ]
  },
  {
   "cell_type": "code",
   "execution_count": null,
   "id": "9a1e8036",
   "metadata": {},
   "outputs": [],
   "source": []
  }
 ],
 "metadata": {
  "kernelspec": {
   "display_name": "Python 3 (ipykernel)",
   "language": "python",
   "name": "python3"
  },
  "language_info": {
   "codemirror_mode": {
    "name": "ipython",
    "version": 3
   },
   "file_extension": ".py",
   "mimetype": "text/x-python",
   "name": "python",
   "nbconvert_exporter": "python",
   "pygments_lexer": "ipython3",
   "version": "3.9.7"
  }
 },
 "nbformat": 4,
 "nbformat_minor": 5
}
