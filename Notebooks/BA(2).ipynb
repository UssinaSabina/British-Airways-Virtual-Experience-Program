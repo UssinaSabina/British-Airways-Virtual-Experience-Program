{
 "cells": [
  {
   "cell_type": "markdown",
   "id": "e7484fc1",
   "metadata": {},
   "source": [
    "# Predictive modeling of customer bookings\n",
    "## EDA (Exploratory Data Analysis)\n",
    "First, we must explore the data in order to better understand what we have and the statistical properties of the dataset."
   ]
  },
  {
   "cell_type": "code",
   "execution_count": 1,
   "id": "43ed162b",
   "metadata": {},
   "outputs": [],
   "source": [
    "import pandas as pd\n",
    "import numpy as np"
   ]
  },
  {
   "cell_type": "code",
   "execution_count": 2,
   "id": "f6efd233",
   "metadata": {},
   "outputs": [
    {
     "data": {
      "text/html": [
       "<div>\n",
       "<style scoped>\n",
       "    .dataframe tbody tr th:only-of-type {\n",
       "        vertical-align: middle;\n",
       "    }\n",
       "\n",
       "    .dataframe tbody tr th {\n",
       "        vertical-align: top;\n",
       "    }\n",
       "\n",
       "    .dataframe thead th {\n",
       "        text-align: right;\n",
       "    }\n",
       "</style>\n",
       "<table border=\"1\" class=\"dataframe\">\n",
       "  <thead>\n",
       "    <tr style=\"text-align: right;\">\n",
       "      <th></th>\n",
       "      <th>num_passengers</th>\n",
       "      <th>sales_channel</th>\n",
       "      <th>trip_type</th>\n",
       "      <th>purchase_lead</th>\n",
       "      <th>length_of_stay</th>\n",
       "      <th>flight_hour</th>\n",
       "      <th>flight_day</th>\n",
       "      <th>route</th>\n",
       "      <th>booking_origin</th>\n",
       "      <th>wants_extra_baggage</th>\n",
       "      <th>wants_preferred_seat</th>\n",
       "      <th>wants_in_flight_meals</th>\n",
       "      <th>flight_duration</th>\n",
       "      <th>booking_complete</th>\n",
       "    </tr>\n",
       "  </thead>\n",
       "  <tbody>\n",
       "    <tr>\n",
       "      <th>0</th>\n",
       "      <td>2</td>\n",
       "      <td>Internet</td>\n",
       "      <td>RoundTrip</td>\n",
       "      <td>262</td>\n",
       "      <td>19</td>\n",
       "      <td>7</td>\n",
       "      <td>Sat</td>\n",
       "      <td>AKLDEL</td>\n",
       "      <td>New Zealand</td>\n",
       "      <td>1</td>\n",
       "      <td>0</td>\n",
       "      <td>0</td>\n",
       "      <td>5.52</td>\n",
       "      <td>0</td>\n",
       "    </tr>\n",
       "    <tr>\n",
       "      <th>1</th>\n",
       "      <td>1</td>\n",
       "      <td>Internet</td>\n",
       "      <td>RoundTrip</td>\n",
       "      <td>112</td>\n",
       "      <td>20</td>\n",
       "      <td>3</td>\n",
       "      <td>Sat</td>\n",
       "      <td>AKLDEL</td>\n",
       "      <td>New Zealand</td>\n",
       "      <td>0</td>\n",
       "      <td>0</td>\n",
       "      <td>0</td>\n",
       "      <td>5.52</td>\n",
       "      <td>0</td>\n",
       "    </tr>\n",
       "    <tr>\n",
       "      <th>2</th>\n",
       "      <td>2</td>\n",
       "      <td>Internet</td>\n",
       "      <td>RoundTrip</td>\n",
       "      <td>243</td>\n",
       "      <td>22</td>\n",
       "      <td>17</td>\n",
       "      <td>Wed</td>\n",
       "      <td>AKLDEL</td>\n",
       "      <td>India</td>\n",
       "      <td>1</td>\n",
       "      <td>1</td>\n",
       "      <td>0</td>\n",
       "      <td>5.52</td>\n",
       "      <td>0</td>\n",
       "    </tr>\n",
       "    <tr>\n",
       "      <th>3</th>\n",
       "      <td>1</td>\n",
       "      <td>Internet</td>\n",
       "      <td>RoundTrip</td>\n",
       "      <td>96</td>\n",
       "      <td>31</td>\n",
       "      <td>4</td>\n",
       "      <td>Sat</td>\n",
       "      <td>AKLDEL</td>\n",
       "      <td>New Zealand</td>\n",
       "      <td>0</td>\n",
       "      <td>0</td>\n",
       "      <td>1</td>\n",
       "      <td>5.52</td>\n",
       "      <td>0</td>\n",
       "    </tr>\n",
       "    <tr>\n",
       "      <th>4</th>\n",
       "      <td>2</td>\n",
       "      <td>Internet</td>\n",
       "      <td>RoundTrip</td>\n",
       "      <td>68</td>\n",
       "      <td>22</td>\n",
       "      <td>15</td>\n",
       "      <td>Wed</td>\n",
       "      <td>AKLDEL</td>\n",
       "      <td>India</td>\n",
       "      <td>1</td>\n",
       "      <td>0</td>\n",
       "      <td>1</td>\n",
       "      <td>5.52</td>\n",
       "      <td>0</td>\n",
       "    </tr>\n",
       "  </tbody>\n",
       "</table>\n",
       "</div>"
      ],
      "text/plain": [
       "   num_passengers sales_channel  trip_type  purchase_lead  length_of_stay  \\\n",
       "0               2      Internet  RoundTrip            262              19   \n",
       "1               1      Internet  RoundTrip            112              20   \n",
       "2               2      Internet  RoundTrip            243              22   \n",
       "3               1      Internet  RoundTrip             96              31   \n",
       "4               2      Internet  RoundTrip             68              22   \n",
       "\n",
       "   flight_hour flight_day   route booking_origin  wants_extra_baggage  \\\n",
       "0            7        Sat  AKLDEL    New Zealand                    1   \n",
       "1            3        Sat  AKLDEL    New Zealand                    0   \n",
       "2           17        Wed  AKLDEL          India                    1   \n",
       "3            4        Sat  AKLDEL    New Zealand                    0   \n",
       "4           15        Wed  AKLDEL          India                    1   \n",
       "\n",
       "   wants_preferred_seat  wants_in_flight_meals  flight_duration  \\\n",
       "0                     0                      0             5.52   \n",
       "1                     0                      0             5.52   \n",
       "2                     1                      0             5.52   \n",
       "3                     0                      1             5.52   \n",
       "4                     0                      1             5.52   \n",
       "\n",
       "   booking_complete  \n",
       "0                 0  \n",
       "1                 0  \n",
       "2                 0  \n",
       "3                 0  \n",
       "4                 0  "
      ]
     },
     "execution_count": 2,
     "metadata": {},
     "output_type": "execute_result"
    }
   ],
   "source": [
    "df = pd.read_csv(\"customer_booking.csv\", encoding=\"ISO-8859-1\")\n",
    "df.head()"
   ]
  },
  {
   "cell_type": "code",
   "execution_count": 3,
   "id": "66c528b7",
   "metadata": {},
   "outputs": [
    {
     "name": "stdout",
     "output_type": "stream",
     "text": [
      "<class 'pandas.core.frame.DataFrame'>\n",
      "RangeIndex: 50000 entries, 0 to 49999\n",
      "Data columns (total 14 columns):\n",
      " #   Column                 Non-Null Count  Dtype  \n",
      "---  ------                 --------------  -----  \n",
      " 0   num_passengers         50000 non-null  int64  \n",
      " 1   sales_channel          50000 non-null  object \n",
      " 2   trip_type              50000 non-null  object \n",
      " 3   purchase_lead          50000 non-null  int64  \n",
      " 4   length_of_stay         50000 non-null  int64  \n",
      " 5   flight_hour            50000 non-null  int64  \n",
      " 6   flight_day             50000 non-null  object \n",
      " 7   route                  50000 non-null  object \n",
      " 8   booking_origin         50000 non-null  object \n",
      " 9   wants_extra_baggage    50000 non-null  int64  \n",
      " 10  wants_preferred_seat   50000 non-null  int64  \n",
      " 11  wants_in_flight_meals  50000 non-null  int64  \n",
      " 12  flight_duration        50000 non-null  float64\n",
      " 13  booking_complete       50000 non-null  int64  \n",
      "dtypes: float64(1), int64(8), object(5)\n",
      "memory usage: 5.3+ MB\n"
     ]
    }
   ],
   "source": [
    "df.info()"
   ]
  },
  {
   "cell_type": "markdown",
   "id": "753d41af",
   "metadata": {},
   "source": [
    "Fortunately, we have no null values.\n",
    "\n",
    "It looks like some of these columns should be converted into different data types, e.g. flight_day.\n",
    "\n",
    "To provide more context, below is a more detailed data description, explaining exactly what each column means:\n",
    "- `num_passengers` = number of passengers travelling\n",
    "- `sales_channel` = sales channel booking was made on\n",
    "- `trip_type` = trip Type (Round Trip, One Way, Circle Trip)\n",
    "- `purchase_lead` = number of days between travel date and booking date\n",
    "- `length_of_stay` = number of days spent at destination\n",
    "- `flight_hour` = hour of flight departure\n",
    "- `flight_day` = day of week of flight departure\n",
    "- `route` = origin -> destination flight route\n",
    "- `booking_origin` = country from where booking was made\n",
    "- `wants_extra_baggage` = if the customer wanted extra baggage in the booking\n",
    "- `wants_preferred_seat` = if the customer wanted a preferred seat in the booking\n",
    "- `wants_in_flight_meals` = if the customer wanted in-flight meals in the booking\n",
    "- `flight_duration` = total duration of flight (in hours)\n",
    "- `booking_complete` = flag indicating if the customer completed the booking\n",
    "\n",
    "Before we compute any statistics on the data, lets do any necessary data conversion"
   ]
  },
  {
   "cell_type": "code",
   "execution_count": 4,
   "id": "2e1bc520",
   "metadata": {},
   "outputs": [
    {
     "data": {
      "text/plain": [
       "array(['Sat', 'Wed', 'Thu', 'Mon', 'Sun', 'Tue', 'Fri'], dtype=object)"
      ]
     },
     "execution_count": 4,
     "metadata": {},
     "output_type": "execute_result"
    }
   ],
   "source": [
    "df['flight_day'].unique()"
   ]
  },
  {
   "cell_type": "code",
   "execution_count": 5,
   "id": "ca5a5ace",
   "metadata": {},
   "outputs": [],
   "source": [
    "mapping = {\n",
    "    'Mon':1,\n",
    "    'Tue':2,\n",
    "    'Wed':3,\n",
    "    'Thu':4,\n",
    "    'Fri':5, \n",
    "    'Sat':6,\n",
    "    'Sun':7\n",
    "}\n",
    "df['flight_day'] = df['flight_day'].map(mapping)"
   ]
  },
  {
   "cell_type": "code",
   "execution_count": 6,
   "id": "1d2e4d0a",
   "metadata": {},
   "outputs": [
    {
     "data": {
      "text/plain": [
       "array([6, 3, 4, 1, 7, 2, 5], dtype=int64)"
      ]
     },
     "execution_count": 6,
     "metadata": {},
     "output_type": "execute_result"
    }
   ],
   "source": [
    "df['flight_day'].unique()"
   ]
  },
  {
   "cell_type": "code",
   "execution_count": 7,
   "id": "cc276fb2",
   "metadata": {},
   "outputs": [],
   "source": [
    "#drop unnecessary column\n",
    "df = df.drop(columns=['route'])"
   ]
  },
  {
   "cell_type": "markdown",
   "id": "2ee15b0e",
   "metadata": {},
   "source": [
    "Let's take a quick overview of a few things such as the mean, min, max and overall distribution of each column."
   ]
  },
  {
   "cell_type": "code",
   "execution_count": 8,
   "id": "30e0dabd",
   "metadata": {},
   "outputs": [
    {
     "data": {
      "text/html": [
       "<div>\n",
       "<style scoped>\n",
       "    .dataframe tbody tr th:only-of-type {\n",
       "        vertical-align: middle;\n",
       "    }\n",
       "\n",
       "    .dataframe tbody tr th {\n",
       "        vertical-align: top;\n",
       "    }\n",
       "\n",
       "    .dataframe thead th {\n",
       "        text-align: right;\n",
       "    }\n",
       "</style>\n",
       "<table border=\"1\" class=\"dataframe\">\n",
       "  <thead>\n",
       "    <tr style=\"text-align: right;\">\n",
       "      <th></th>\n",
       "      <th>num_passengers</th>\n",
       "      <th>purchase_lead</th>\n",
       "      <th>length_of_stay</th>\n",
       "      <th>flight_hour</th>\n",
       "      <th>flight_day</th>\n",
       "      <th>wants_extra_baggage</th>\n",
       "      <th>wants_preferred_seat</th>\n",
       "      <th>wants_in_flight_meals</th>\n",
       "      <th>flight_duration</th>\n",
       "      <th>booking_complete</th>\n",
       "    </tr>\n",
       "  </thead>\n",
       "  <tbody>\n",
       "    <tr>\n",
       "      <th>count</th>\n",
       "      <td>50000.000000</td>\n",
       "      <td>50000.000000</td>\n",
       "      <td>50000.00000</td>\n",
       "      <td>50000.00000</td>\n",
       "      <td>50000.000000</td>\n",
       "      <td>50000.000000</td>\n",
       "      <td>50000.000000</td>\n",
       "      <td>50000.000000</td>\n",
       "      <td>50000.000000</td>\n",
       "      <td>50000.000000</td>\n",
       "    </tr>\n",
       "    <tr>\n",
       "      <th>mean</th>\n",
       "      <td>1.591240</td>\n",
       "      <td>84.940480</td>\n",
       "      <td>23.04456</td>\n",
       "      <td>9.06634</td>\n",
       "      <td>3.814420</td>\n",
       "      <td>0.668780</td>\n",
       "      <td>0.296960</td>\n",
       "      <td>0.427140</td>\n",
       "      <td>7.277561</td>\n",
       "      <td>0.149560</td>\n",
       "    </tr>\n",
       "    <tr>\n",
       "      <th>std</th>\n",
       "      <td>1.020165</td>\n",
       "      <td>90.451378</td>\n",
       "      <td>33.88767</td>\n",
       "      <td>5.41266</td>\n",
       "      <td>1.992792</td>\n",
       "      <td>0.470657</td>\n",
       "      <td>0.456923</td>\n",
       "      <td>0.494668</td>\n",
       "      <td>1.496863</td>\n",
       "      <td>0.356643</td>\n",
       "    </tr>\n",
       "    <tr>\n",
       "      <th>min</th>\n",
       "      <td>1.000000</td>\n",
       "      <td>0.000000</td>\n",
       "      <td>0.00000</td>\n",
       "      <td>0.00000</td>\n",
       "      <td>1.000000</td>\n",
       "      <td>0.000000</td>\n",
       "      <td>0.000000</td>\n",
       "      <td>0.000000</td>\n",
       "      <td>4.670000</td>\n",
       "      <td>0.000000</td>\n",
       "    </tr>\n",
       "    <tr>\n",
       "      <th>25%</th>\n",
       "      <td>1.000000</td>\n",
       "      <td>21.000000</td>\n",
       "      <td>5.00000</td>\n",
       "      <td>5.00000</td>\n",
       "      <td>2.000000</td>\n",
       "      <td>0.000000</td>\n",
       "      <td>0.000000</td>\n",
       "      <td>0.000000</td>\n",
       "      <td>5.620000</td>\n",
       "      <td>0.000000</td>\n",
       "    </tr>\n",
       "    <tr>\n",
       "      <th>50%</th>\n",
       "      <td>1.000000</td>\n",
       "      <td>51.000000</td>\n",
       "      <td>17.00000</td>\n",
       "      <td>9.00000</td>\n",
       "      <td>4.000000</td>\n",
       "      <td>1.000000</td>\n",
       "      <td>0.000000</td>\n",
       "      <td>0.000000</td>\n",
       "      <td>7.570000</td>\n",
       "      <td>0.000000</td>\n",
       "    </tr>\n",
       "    <tr>\n",
       "      <th>75%</th>\n",
       "      <td>2.000000</td>\n",
       "      <td>115.000000</td>\n",
       "      <td>28.00000</td>\n",
       "      <td>13.00000</td>\n",
       "      <td>5.000000</td>\n",
       "      <td>1.000000</td>\n",
       "      <td>1.000000</td>\n",
       "      <td>1.000000</td>\n",
       "      <td>8.830000</td>\n",
       "      <td>0.000000</td>\n",
       "    </tr>\n",
       "    <tr>\n",
       "      <th>max</th>\n",
       "      <td>9.000000</td>\n",
       "      <td>867.000000</td>\n",
       "      <td>778.00000</td>\n",
       "      <td>23.00000</td>\n",
       "      <td>7.000000</td>\n",
       "      <td>1.000000</td>\n",
       "      <td>1.000000</td>\n",
       "      <td>1.000000</td>\n",
       "      <td>9.500000</td>\n",
       "      <td>1.000000</td>\n",
       "    </tr>\n",
       "  </tbody>\n",
       "</table>\n",
       "</div>"
      ],
      "text/plain": [
       "       num_passengers  purchase_lead  length_of_stay  flight_hour  \\\n",
       "count    50000.000000   50000.000000     50000.00000  50000.00000   \n",
       "mean         1.591240      84.940480        23.04456      9.06634   \n",
       "std          1.020165      90.451378        33.88767      5.41266   \n",
       "min          1.000000       0.000000         0.00000      0.00000   \n",
       "25%          1.000000      21.000000         5.00000      5.00000   \n",
       "50%          1.000000      51.000000        17.00000      9.00000   \n",
       "75%          2.000000     115.000000        28.00000     13.00000   \n",
       "max          9.000000     867.000000       778.00000     23.00000   \n",
       "\n",
       "         flight_day  wants_extra_baggage  wants_preferred_seat  \\\n",
       "count  50000.000000         50000.000000          50000.000000   \n",
       "mean       3.814420             0.668780              0.296960   \n",
       "std        1.992792             0.470657              0.456923   \n",
       "min        1.000000             0.000000              0.000000   \n",
       "25%        2.000000             0.000000              0.000000   \n",
       "50%        4.000000             1.000000              0.000000   \n",
       "75%        5.000000             1.000000              1.000000   \n",
       "max        7.000000             1.000000              1.000000   \n",
       "\n",
       "       wants_in_flight_meals  flight_duration  booking_complete  \n",
       "count           50000.000000     50000.000000      50000.000000  \n",
       "mean                0.427140         7.277561          0.149560  \n",
       "std                 0.494668         1.496863          0.356643  \n",
       "min                 0.000000         4.670000          0.000000  \n",
       "25%                 0.000000         5.620000          0.000000  \n",
       "50%                 0.000000         7.570000          0.000000  \n",
       "75%                 1.000000         8.830000          0.000000  \n",
       "max                 1.000000         9.500000          1.000000  "
      ]
     },
     "execution_count": 8,
     "metadata": {},
     "output_type": "execute_result"
    }
   ],
   "source": [
    "df.describe()"
   ]
  },
  {
   "cell_type": "markdown",
   "id": "d38ea28d",
   "metadata": {},
   "source": [
    "There we can see that the target attribute is imbalanced; there are less complete bookings (only 15% of all instances)"
   ]
  },
  {
   "cell_type": "code",
   "execution_count": 9,
   "id": "5c05dfda",
   "metadata": {},
   "outputs": [
    {
     "data": {
      "text/plain": [
       "0    0.85044\n",
       "1    0.14956\n",
       "Name: booking_complete, dtype: float64"
      ]
     },
     "execution_count": 9,
     "metadata": {},
     "output_type": "execute_result"
    }
   ],
   "source": [
    "df.booking_complete.value_counts() / 50000"
   ]
  },
  {
   "cell_type": "code",
   "execution_count": 10,
   "id": "612eee4f",
   "metadata": {},
   "outputs": [
    {
     "data": {
      "text/plain": [
       "(50000, 13)"
      ]
     },
     "execution_count": 10,
     "metadata": {},
     "output_type": "execute_result"
    }
   ],
   "source": [
    "df.shape"
   ]
  },
  {
   "cell_type": "markdown",
   "id": "6fc56b16",
   "metadata": {},
   "source": [
    "## Prepare the data and Train the Model"
   ]
  },
  {
   "cell_type": "code",
   "execution_count": 11,
   "id": "ba96ee5e",
   "metadata": {},
   "outputs": [
    {
     "data": {
      "text/plain": [
       "Index(['num_passengers', 'sales_channel', 'trip_type', 'purchase_lead',\n",
       "       'length_of_stay', 'flight_hour', 'flight_day', 'booking_origin',\n",
       "       'wants_extra_baggage', 'wants_preferred_seat', 'wants_in_flight_meals',\n",
       "       'flight_duration', 'booking_complete'],\n",
       "      dtype='object')"
      ]
     },
     "execution_count": 11,
     "metadata": {},
     "output_type": "execute_result"
    }
   ],
   "source": [
    "df.columns"
   ]
  },
  {
   "cell_type": "code",
   "execution_count": 12,
   "id": "c3b523ff",
   "metadata": {},
   "outputs": [],
   "source": [
    "num_attribs = ['num_passengers', 'purchase_lead', 'length_of_stay', 'flight_hour', 'flight_day', 'flight_duration']\n",
    "cat_attribs = ['sales_channel', 'trip_type', 'booking_origin']"
   ]
  },
  {
   "cell_type": "code",
   "execution_count": 13,
   "id": "491d9bd3",
   "metadata": {},
   "outputs": [
    {
     "data": {
      "text/plain": [
       "ColumnTransformer(remainder='passthrough',\n",
       "                  transformers=[('num', StandardScaler(),\n",
       "                                 ['num_passengers', 'purchase_lead',\n",
       "                                  'length_of_stay', 'flight_hour', 'flight_day',\n",
       "                                  'flight_duration']),\n",
       "                                ('cat', OrdinalEncoder(),\n",
       "                                 ['sales_channel', 'trip_type',\n",
       "                                  'booking_origin'])])"
      ]
     },
     "execution_count": 13,
     "metadata": {},
     "output_type": "execute_result"
    }
   ],
   "source": [
    "from sklearn.compose import ColumnTransformer\n",
    "from sklearn.preprocessing import OrdinalEncoder\n",
    "from sklearn.preprocessing import StandardScaler\n",
    "\n",
    "full_pipeline = ColumnTransformer([\n",
    "    (\"num\", StandardScaler(), num_attribs),\n",
    "    (\"cat\", OrdinalEncoder(), cat_attribs)\n",
    "], remainder='passthrough')\n",
    "\n",
    "full_pipeline.fit(df.iloc[:, :-1])"
   ]
  },
  {
   "cell_type": "code",
   "execution_count": 14,
   "id": "be5f019d",
   "metadata": {},
   "outputs": [],
   "source": [
    "X = df.iloc[:,:-1]\n",
    "y = df.iloc[:, -1]"
   ]
  },
  {
   "cell_type": "code",
   "execution_count": 15,
   "id": "c617372b",
   "metadata": {},
   "outputs": [],
   "source": [
    "from sklearn.model_selection import train_test_split\n",
    "\n",
    "X_train, X_test, y_train, y_test = train_test_split(X, y, test_size=0.2, random_state = 42, shuffle=True, stratify = y)"
   ]
  },
  {
   "cell_type": "code",
   "execution_count": 16,
   "id": "7c68f6a3",
   "metadata": {},
   "outputs": [],
   "source": [
    "X_train_prep = full_pipeline.transform(X_train)\n",
    "X_test_prep = full_pipeline.transform(X_test)"
   ]
  },
  {
   "cell_type": "code",
   "execution_count": 17,
   "id": "65c795e8",
   "metadata": {},
   "outputs": [
    {
     "data": {
      "text/plain": [
       "RandomForestClassifier(class_weight='balanced')"
      ]
     },
     "execution_count": 17,
     "metadata": {},
     "output_type": "execute_result"
    }
   ],
   "source": [
    "from sklearn.ensemble import RandomForestClassifier\n",
    "rforest_clf = RandomForestClassifier(class_weight='balanced')\n",
    "rforest_clf.fit(X_train_prep, y_train)"
   ]
  },
  {
   "cell_type": "markdown",
   "id": "b8b61b55",
   "metadata": {},
   "source": [
    "This model (Random Forest) was our choice because it takes care of multicollinearity as well as our data being imbalanced. It does run the risk of overfitting the data, but it is worth the try."
   ]
  },
  {
   "cell_type": "markdown",
   "id": "5e7cf7f3",
   "metadata": {},
   "source": [
    "## Assessing and Improving the Model"
   ]
  },
  {
   "cell_type": "code",
   "execution_count": 18,
   "id": "0c7fe9c5",
   "metadata": {},
   "outputs": [],
   "source": [
    "y_train_predicted = rforest_clf.predict(X_train_prep)\n",
    "y_test_predicted = rforest_clf.predict(X_test_prep)"
   ]
  },
  {
   "cell_type": "code",
   "execution_count": 19,
   "id": "cfab253a",
   "metadata": {},
   "outputs": [
    {
     "name": "stdout",
     "output_type": "stream",
     "text": [
      "roc_auc_score on the train data: 0.999798831106367\n",
      "roc_auc_score on the test data: 0.5372539377505897\n"
     ]
    }
   ],
   "source": [
    "from sklearn.metrics import plot_confusion_matrix, accuracy_score, roc_auc_score\n",
    "\n",
    "rf_train_score = roc_auc_score(y_train, y_train_predicted)\n",
    "rf_test_score = roc_auc_score(y_test, y_test_predicted)\n",
    "\n",
    "print(f'roc_auc_score on the train data: {rf_train_score}')\n",
    "print(f'roc_auc_score on the test data: {rf_test_score}')"
   ]
  },
  {
   "cell_type": "markdown",
   "id": "2f413cd1",
   "metadata": {},
   "source": [
    "The next step would be to find parameters that will help the model perform better. We can do this by using grid search."
   ]
  },
  {
   "cell_type": "code",
   "execution_count": 20,
   "id": "b4119c02",
   "metadata": {},
   "outputs": [
    {
     "data": {
      "text/plain": [
       "GridSearchCV(cv=3, estimator=RandomForestClassifier(class_weight='balanced'),\n",
       "             param_grid={'class_weight': ['balanced'],\n",
       "                         'criterion': ['gini', 'entropy'],\n",
       "                         'max_depth': [2, 4, 6, 10],\n",
       "                         'n_estimators': [5, 10, 50, 100, 200]},\n",
       "             scoring='roc_auc')"
      ]
     },
     "execution_count": 20,
     "metadata": {},
     "output_type": "execute_result"
    }
   ],
   "source": [
    "from sklearn.model_selection import GridSearchCV\n",
    "\n",
    "grid_params = {'n_estimators': [5, 10, 50, 100, 200], \n",
    "              'class_weight': ['balanced'], \n",
    "              'criterion': ['gini', 'entropy'], \n",
    "              'max_depth': [2,4,6,10] \n",
    "              } \n",
    "\n",
    "grid_search = GridSearchCV(rforest_clf, grid_params, cv=3, scoring= 'roc_auc')\n",
    "\n",
    "grid_search.fit(X_train_prep, y_train)"
   ]
  },
  {
   "cell_type": "code",
   "execution_count": 21,
   "id": "8250936c",
   "metadata": {},
   "outputs": [
    {
     "data": {
      "text/plain": [
       "{'class_weight': 'balanced',\n",
       " 'criterion': 'entropy',\n",
       " 'max_depth': 10,\n",
       " 'n_estimators': 200}"
      ]
     },
     "execution_count": 21,
     "metadata": {},
     "output_type": "execute_result"
    }
   ],
   "source": [
    "grid_search.best_params_"
   ]
  },
  {
   "cell_type": "code",
   "execution_count": 22,
   "id": "15431ab3",
   "metadata": {},
   "outputs": [
    {
     "name": "stdout",
     "output_type": "stream",
     "text": [
      "roc_auc_score on the train data: 0.7485992626202043\n",
      "roc_auc_score on the test data: 0.6998524758402462\n"
     ]
    }
   ],
   "source": [
    "best_rforest_clf = grid_search.best_estimator_\n",
    "\n",
    "best_rforest_clf.fit(X_train_prep, y_train)\n",
    "\n",
    "y_train_pred_best = best_rforest_clf.predict(X_train_prep)\n",
    "y_test_pred_best = best_rforest_clf.predict(X_test_prep)\n",
    "\n",
    "rf_train_score_best = roc_auc_score(y_train, y_train_pred_best)\n",
    "rf_test_score_best = roc_auc_score(y_test, y_test_pred_best)\n",
    "\n",
    "print(f'roc_auc_score on the train data: {rf_train_score_best}')\n",
    "print(f'roc_auc_score on the test data: {rf_test_score_best}')"
   ]
  },
  {
   "cell_type": "code",
   "execution_count": 23,
   "id": "9c062aba",
   "metadata": {},
   "outputs": [
    {
     "data": {
      "image/png": "[encoded data removed]",
      "text/plain": [
       "<Figure size 432x288 with 2 Axes>"
      ]
     },
     "metadata": {
      "needs_background": "light"
     },
     "output_type": "display_data"
    }
   ],
   "source": [
    "# plot a confusion matrix\n",
    "import matplotlib.pyplot as plt\n",
    "plot_confusion_matrix(best_rforest_clf, X_test_prep, y_test, cmap=plt.cm.Blues, values_format='.3g')\n",
    "plt.grid(False)"
   ]
  },
  {
   "cell_type": "code",
   "execution_count": 24,
   "id": "c126330f",
   "metadata": {},
   "outputs": [
    {
     "name": "stdout",
     "output_type": "stream",
     "text": [
      "Accuracy score on the test data is 0.6886\n"
     ]
    }
   ],
   "source": [
    "acc_score_best = accuracy_score(y_test, y_test_pred_best)\n",
    "print(f'Accuracy score on the test data is {acc_score_best}')"
   ]
  },
  {
   "cell_type": "markdown",
   "id": "027a882f",
   "metadata": {},
   "source": [
    "## Gradient Boost / AdaBoost\n",
    "We will continue our model search by using gradient boost. Our aim is to see if we can raise our ROC_AUC and Accuracy scores using the ensamble methods gradient boost & AdaBoost."
   ]
  },
  {
   "cell_type": "code",
   "execution_count": 25,
   "id": "b4ee6f4e",
   "metadata": {},
   "outputs": [
    {
     "data": {
      "text/plain": [
       "GradientBoostingClassifier(random_state=42)"
      ]
     },
     "execution_count": 25,
     "metadata": {},
     "output_type": "execute_result"
    }
   ],
   "source": [
    "from sklearn.ensemble import AdaBoostClassifier, GradientBoostingClassifier\n",
    "\n",
    "adaboost_clf = AdaBoostClassifier(random_state = 42)\n",
    "gradboost_clf = GradientBoostingClassifier(random_state = 42)\n",
    "\n",
    "adaboost_clf.fit(X_train_prep, y_train)\n",
    "gradboost_clf.fit(X_train_prep, y_train)"
   ]
  },
  {
   "cell_type": "code",
   "execution_count": 26,
   "id": "7230aadd",
   "metadata": {},
   "outputs": [],
   "source": [
    "# making predictions\n",
    "adaboost_train_preds = adaboost_clf.predict(X_train_prep)\n",
    "adaboost_test_preds = adaboost_clf.predict(X_test_prep)\n",
    "\n",
    "gradboost_train_preds = gradboost_clf.predict(X_train_prep)\n",
    "gradboost_test_preds = gradboost_clf.predict(X_test_prep)"
   ]
  },
  {
   "cell_type": "code",
   "execution_count": 27,
   "id": "19d51f34",
   "metadata": {},
   "outputs": [
    {
     "name": "stdout",
     "output_type": "stream",
     "text": [
      "Training Metrics:\n",
      "Model: AdaBoost\n",
      "Accuracy score: 0.85015\n",
      "ROC-AUC score: 0.5095365466143861\n",
      "\n",
      "Model: GradBoost\n",
      "Accuracy score: 0.851325\n",
      "ROC-AUC score: 0.5109851031920698\n",
      "\n",
      "Testing Metrics:\n",
      "Model: AdaBoost\n",
      "Accuracy score: 0.8507\n",
      "ROC-AUC score: 0.5100918221560411\n",
      "\n",
      "Model: GradBoost\n",
      "Accuracy score: 0.8506\n",
      "ROC-AUC score: 0.5078295963899971\n"
     ]
    }
   ],
   "source": [
    "# display results \n",
    "def display_accuracy_and_roc_auc_score(actual, preds, model_name):\n",
    "    acc = accuracy_score(actual, preds)\n",
    "    roc_auc = roc_auc_score(actual, preds)\n",
    "    print(f\"Model: {model_name}\")\n",
    "    print(f\"Accuracy score: {acc}\")\n",
    "    print(f\"ROC-AUC score: {roc_auc}\")\n",
    "print(\"Training Metrics:\")\n",
    "display_accuracy_and_roc_auc_score(y_train, adaboost_train_preds, \"AdaBoost\")\n",
    "print(\"\")\n",
    "display_accuracy_and_roc_auc_score(y_train, gradboost_train_preds, \"GradBoost\")\n",
    "print(\"\")\n",
    "print(\"Testing Metrics:\")\n",
    "display_accuracy_and_roc_auc_score(y_test, adaboost_test_preds, \"AdaBoost\")\n",
    "print(\"\")\n",
    "display_accuracy_and_roc_auc_score(y_test, gradboost_test_preds, \"GradBoost\")"
   ]
  },
  {
   "cell_type": "markdown",
   "id": "c35896a8",
   "metadata": {},
   "source": [
    "As we can see, no matter what method we use, our model is bad. "
   ]
  },
  {
   "cell_type": "markdown",
   "id": "a8520b23",
   "metadata": {},
   "source": [
    "# Conclusion\n",
    "Below you can see how each model did on the test/predicted data with encoding applied.\n",
    "## Random Forest \n",
    "- ROC-AUC score: 0.6192329653597259\n",
    "- Accuracy score: 0.6342\n",
    "## Gradient Boost \n",
    "- ROC-AUC score: 0.4999413145539906\n",
    "- Accuracy score: 0.8519\n",
    "## AdaBoost \n",
    "- ROC-AUC score: 0.5\n",
    "- Accuracy score: 0.852"
   ]
  },
  {
   "cell_type": "code",
   "execution_count": null,
   "id": "260d0312",
   "metadata": {},
   "outputs": [],
   "source": [
    "print('Model: Random Forest')\n",
    "print(f'ROC-AUC score: {rf_test_score_best}')\n",
    "print(f'Accuracy score: {acc_score_best}')\n",
    "print(\"\")\n",
    "display_accuracy_and_roc_auc_score(y_test, adaboost_test_preds, \"AdaBoost\")\n",
    "print(\"\")\n",
    "display_accuracy_and_roc_auc_score(y_test, gradboost_test_preds, 'Gradboost')\n"
   ]
  },
  {
   "cell_type": "markdown",
   "id": "4bb4028a",
   "metadata": {},
   "source": [
    "From the list below you can see that the best performing model was Random Forest. Why? When you look at both the roc_auc and accuracy score for random forest, you can see that there is not that much of a spread between the two. This is showing that the overfitting is not present enough to where how correctly the model predicts is impacted."
   ]
  },
  {
   "cell_type": "markdown",
   "id": "5f967abb",
   "metadata": {},
   "source": [
    "# Perfomance Measures Using Cross-Validation"
   ]
  },
  {
   "cell_type": "code",
   "execution_count": 28,
   "id": "7a671e1f",
   "metadata": {},
   "outputs": [],
   "source": [
    "from sklearn.model_selection import cross_val_predict\n",
    "\n",
    "y_test_pred = cross_val_predict(best_rforest_clf, X_test_prep, y_test, cv=3)"
   ]
  },
  {
   "cell_type": "code",
   "execution_count": 29,
   "id": "a4bef9c8",
   "metadata": {},
   "outputs": [
    {
     "data": {
      "text/plain": [
       "array([[6874, 1630],\n",
       "       [ 723,  773]], dtype=int64)"
      ]
     },
     "execution_count": 29,
     "metadata": {},
     "output_type": "execute_result"
    }
   ],
   "source": [
    "from sklearn.metrics import confusion_matrix\n",
    "cf_matrix = confusion_matrix(y_test, y_test_pred)\n",
    "cf_matrix"
   ]
  },
  {
   "cell_type": "code",
   "execution_count": 30,
   "id": "fcfec068",
   "metadata": {},
   "outputs": [
    {
     "data": {
      "image/png": "[encoded data removed]",
      "text/plain": [
       "<Figure size 432x288 with 2 Axes>"
      ]
     },
     "metadata": {
      "needs_background": "light"
     },
     "output_type": "display_data"
    }
   ],
   "source": [
    "import seaborn as sns\n",
    "\n",
    "ax = sns.heatmap(cf_matrix/np.sum(cf_matrix), annot=True, \n",
    "            fmt='.2%', cmap='Blues')\n",
    "\n",
    "ax.set_title('Confusion Matrix\\n\\n');\n",
    "ax.set_xlabel('\\nPredicted Values')\n",
    "ax.set_ylabel('Actual Values ');\n",
    "\n",
    "ax.xaxis.set_ticklabels(['False','True'])\n",
    "ax.yaxis.set_ticklabels(['False','True'])\n",
    "\n",
    "plt.show()"
   ]
  },
  {
   "cell_type": "code",
   "execution_count": 31,
   "id": "1832ea64",
   "metadata": {},
   "outputs": [
    {
     "name": "stdout",
     "output_type": "stream",
     "text": [
      "              precision    recall  f1-score   support\n",
      "\n",
      "           0       0.90      0.81      0.85      8504\n",
      "           1       0.32      0.52      0.40      1496\n",
      "\n",
      "    accuracy                           0.76     10000\n",
      "   macro avg       0.61      0.66      0.63     10000\n",
      "weighted avg       0.82      0.76      0.79     10000\n",
      "\n"
     ]
    }
   ],
   "source": [
    "from sklearn.metrics import classification_report\n",
    "print(classification_report(y_test, y_test_pred))"
   ]
  },
  {
   "cell_type": "code",
   "execution_count": 32,
   "id": "1483e01e",
   "metadata": {},
   "outputs": [
    {
     "data": {
      "text/plain": [
       "<Figure size 900x600 with 0 Axes>"
      ]
     },
     "metadata": {},
     "output_type": "display_data"
    },
    {
     "data": {
      "image/png": "[encoded data removed]",
      "text/plain": [
       "<Figure size 720x432 with 1 Axes>"
      ]
     },
     "metadata": {
      "needs_background": "light"
     },
     "output_type": "display_data"
    }
   ],
   "source": [
    "from sklearn.metrics import roc_curve\n",
    "\n",
    "# get the probability distribution\n",
    "probas = cross_val_predict(best_rforest_clf, X_test_prep, y_test, cv=3, method='predict_proba')[:, 1]\n",
    "\n",
    "# FPR, TPR and thresholds\n",
    "fpr, tpr, thresholds = roc_curve(y_test, probas)\n",
    "\n",
    "# get the ROC-AUC score\n",
    "roc_auc = roc_auc_score(y_test, y_test_pred)\n",
    "\n",
    "plt.figure(dpi=150)\n",
    "plt.figure(figsize=[10,6])\n",
    "plt.plot(fpr, tpr, lw=1, color='green', label=f'AUC = {roc_auc:.3f}')\n",
    "plt.fill_between(fpr, tpr, alpha=.5, color='yellow')\n",
    "plt.title('ROC Curve for RF classifier')\n",
    "plt.xlabel('False Positive Rate')\n",
    "plt.ylabel('True Positive Rate (Recall)')\n",
    "# Add dashed line with a slope of 1\n",
    "plt.plot([0,1], [0,1], linestyle=(0, (5, 5)), linewidth=2)\n",
    "plt.xlim([-0.05, 1.05])\n",
    "plt.ylim([-0.05, 1.05])\n",
    "plt.legend()\n",
    "plt.show()"
   ]
  },
  {
   "cell_type": "markdown",
   "id": "f0ff0abf",
   "metadata": {},
   "source": [
    "## Identify Important Features"
   ]
  },
  {
   "cell_type": "code",
   "execution_count": 40,
   "id": "476a5435",
   "metadata": {},
   "outputs": [
    {
     "data": {
      "text/html": [
       "<style type=\"text/css\">\n",
       "</style>\n",
       "<table id=\"T_b9704_\">\n",
       "  <thead>\n",
       "    <tr>\n",
       "      <th class=\"col_heading level0 col0\" >feature</th>\n",
       "      <th class=\"col_heading level0 col1\" >importance</th>\n",
       "    </tr>\n",
       "  </thead>\n",
       "  <tbody>\n",
       "    <tr>\n",
       "      <td id=\"T_b9704_row0_col0\" class=\"data row0 col0\" >wants_extra_baggage</td>\n",
       "      <td id=\"T_b9704_row0_col1\" class=\"data row0 col1\" >0.401659</td>\n",
       "    </tr>\n",
       "    <tr>\n",
       "      <td id=\"T_b9704_row1_col0\" class=\"data row1 col0\" >trip_type</td>\n",
       "      <td id=\"T_b9704_row1_col1\" class=\"data row1 col1\" >0.131937</td>\n",
       "    </tr>\n",
       "    <tr>\n",
       "      <td id=\"T_b9704_row2_col0\" class=\"data row2 col0\" >flight_hour</td>\n",
       "      <td id=\"T_b9704_row2_col1\" class=\"data row2 col1\" >0.110588</td>\n",
       "    </tr>\n",
       "    <tr>\n",
       "      <td id=\"T_b9704_row3_col0\" class=\"data row3 col0\" >sales_channel</td>\n",
       "      <td id=\"T_b9704_row3_col1\" class=\"data row3 col1\" >0.105940</td>\n",
       "    </tr>\n",
       "    <tr>\n",
       "      <td id=\"T_b9704_row4_col0\" class=\"data row4 col0\" >purchase_lead</td>\n",
       "      <td id=\"T_b9704_row4_col1\" class=\"data row4 col1\" >0.067685</td>\n",
       "    </tr>\n",
       "    <tr>\n",
       "      <td id=\"T_b9704_row5_col0\" class=\"data row5 col0\" >length_of_stay</td>\n",
       "      <td id=\"T_b9704_row5_col1\" class=\"data row5 col1\" >0.041518</td>\n",
       "    </tr>\n",
       "    <tr>\n",
       "      <td id=\"T_b9704_row6_col0\" class=\"data row6 col0\" >wants_preferred_seat</td>\n",
       "      <td id=\"T_b9704_row6_col1\" class=\"data row6 col1\" >0.038268</td>\n",
       "    </tr>\n",
       "    <tr>\n",
       "      <td id=\"T_b9704_row7_col0\" class=\"data row7 col0\" >num_passengers</td>\n",
       "      <td id=\"T_b9704_row7_col1\" class=\"data row7 col1\" >0.027954</td>\n",
       "    </tr>\n",
       "    <tr>\n",
       "      <td id=\"T_b9704_row8_col0\" class=\"data row8 col0\" >flight_day</td>\n",
       "      <td id=\"T_b9704_row8_col1\" class=\"data row8 col1\" >0.026218</td>\n",
       "    </tr>\n",
       "    <tr>\n",
       "      <td id=\"T_b9704_row9_col0\" class=\"data row9 col0\" >wants_in_flight_meals</td>\n",
       "      <td id=\"T_b9704_row9_col1\" class=\"data row9 col1\" >0.023080</td>\n",
       "    </tr>\n",
       "    <tr>\n",
       "      <td id=\"T_b9704_row10_col0\" class=\"data row10 col0\" >flight_duration</td>\n",
       "      <td id=\"T_b9704_row10_col1\" class=\"data row10 col1\" >0.017467</td>\n",
       "    </tr>\n",
       "    <tr>\n",
       "      <td id=\"T_b9704_row11_col0\" class=\"data row11 col0\" >booking_origin</td>\n",
       "      <td id=\"T_b9704_row11_col1\" class=\"data row11 col1\" >0.007687</td>\n",
       "    </tr>\n",
       "  </tbody>\n",
       "</table>\n"
      ],
      "text/plain": [
       "<pandas.io.formats.style.Styler at 0x220ac9aad00>"
      ]
     },
     "execution_count": 40,
     "metadata": {},
     "output_type": "execute_result"
    }
   ],
   "source": [
    "feature_importances_df = pd.DataFrame(\n",
    "    {'feature': X.columns, \"importance\": best_rforest_clf.feature_importances_}\n",
    ").sort_values(\"importance\", ascending=False)\n",
    "\n",
    "feature_importances_df.style.hide_index()"
   ]
  },
  {
   "cell_type": "code",
   "execution_count": 46,
   "id": "0e97e835",
   "metadata": {},
   "outputs": [
    {
     "data": {
      "image/png": "[encoded data removed]",
      "text/plain": [
       "<Figure size 432x288 with 1 Axes>"
      ]
     },
     "metadata": {
      "needs_background": "light"
     },
     "output_type": "display_data"
    }
   ],
   "source": [
    "# visualize important featuers\n",
    "\n",
    "# Creating a bar plot\n",
    "barplot = sns.barplot(x=feature_importances_df.feature, y=feature_importances_df.importance)\n",
    "\n",
    "plt.xlabel(\"Feature Importance Score\")\n",
    "plt.ylabel(\"Features\")\n",
    "plt.title(\"Visualizing Important Features\")\n",
    "plt.xticks(\n",
    "    rotation=45, horizontalalignment=\"right\", fontweight=\"light\", fontsize=\"x-large\"\n",
    ")\n",
    "fig = barplot.get_figure()\n",
    "fig.savefig(\"out.png\", bbox_inches='tight') \n",
    "plt.show()\n"
   ]
  },
  {
   "cell_type": "code",
   "execution_count": 44,
   "id": "df797323",
   "metadata": {},
   "outputs": [
    {
     "ename": "NameError",
     "evalue": "name 'fig' is not defined",
     "output_type": "error",
     "traceback": [
      "\u001b[1;31m---------------------------------------------------------------------------\u001b[0m",
      "\u001b[1;31mNameError\u001b[0m                                 Traceback (most recent call last)",
      "\u001b[1;32m~\\AppData\\Local\\Temp/ipykernel_55160/516589173.py\u001b[0m in \u001b[0;36m<module>\u001b[1;34m\u001b[0m\n\u001b[1;32m----> 1\u001b[1;33m \u001b[0mfig\u001b[0m\u001b[1;33m.\u001b[0m\u001b[0msavefig\u001b[0m\u001b[1;33m(\u001b[0m\u001b[1;34m\"out.png\"\u001b[0m\u001b[1;33m)\u001b[0m\u001b[1;33m\u001b[0m\u001b[1;33m\u001b[0m\u001b[0m\n\u001b[0m",
      "\u001b[1;31mNameError\u001b[0m: name 'fig' is not defined"
     ]
    }
   ],
   "source": [
    "fig.savefig(\"out.png\") "
   ]
  },
  {
   "cell_type": "code",
   "execution_count": null,
   "id": "4c34fdc8",
   "metadata": {},
   "outputs": [],
   "source": []
  }
 ],
 "metadata": {
  "kernelspec": {
   "display_name": "Python 3 (ipykernel)",
   "language": "python",
   "name": "python3"
  },
  "language_info": {
   "codemirror_mode": {
    "name": "ipython",
    "version": 3
   },
   "file_extension": ".py",
   "mimetype": "text/x-python",
   "name": "python",
   "nbconvert_exporter": "python",
   "pygments_lexer": "ipython3",
   "version": "3.9.7"
  }
 },
 "nbformat": 4,
 "nbformat_minor": 5
}
