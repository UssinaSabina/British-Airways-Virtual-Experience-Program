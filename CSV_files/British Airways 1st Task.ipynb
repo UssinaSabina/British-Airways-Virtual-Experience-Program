{
 "cells": [
  {
   "cell_type": "markdown",
   "id": "785e9f94",
   "metadata": {},
   "source": [
    "# Web Scraping "
   ]
  },
  {
   "cell_type": "code",
   "execution_count": 1,
   "id": "9ee019e0",
   "metadata": {},
   "outputs": [],
   "source": [
    "# import libraries\n",
    "from bs4 import BeautifulSoup\n",
    "import requests\n",
    "import pandas as pd\n",
    "import numpy as np\n",
    "import math\n",
    "import matplotlib.pyplot as plt"
   ]
  },
  {
   "cell_type": "markdown",
   "id": "482c4d28",
   "metadata": {},
   "source": [
    "We'll create 2 datasets: one - containing ratings that reviewers gave (values from the tables on the website), and another - containing only text reviews. For the 1st dataset we'll perform EDA and for the 2nd - Sentiment Analysis"
   ]
  },
  {
   "cell_type": "code",
   "execution_count": 2,
   "id": "a9217b6a",
   "metadata": {},
   "outputs": [],
   "source": [
    "columns = ['Date Flown','Aircraft','Type Of Traveller','Seat Type','Seat Comfort','Cabin Staff Service','Food & Beverages',\n",
    "               'Inflight Entertainment','Ground Service','Value For Money','Wifi & Connectivity','Recommended']\n",
    "# create 2 dataframes\n",
    "df = pd.DataFrame(columns=columns)\n",
    "df2 = pd.DataFrame(columns=['Text'])\n",
    "\n",
    "temp_row1 = 0\n",
    "temp_row2 = 0\n",
    "\n",
    "# web scraping and adding values to our new dataframe\n",
    "for i in range(1, math.ceil(3423/100)+1):\n",
    "    URL = f'https://www.airlinequality.com/airline-reviews/british-airways/page/{i}/?sortby=post_date%3ADesc&pagesize=100'\n",
    "\n",
    "    page = requests.get(URL)\n",
    "\n",
    "    soup = BeautifulSoup(page.content, 'html.parser')\n",
    "\n",
    "    reviews = soup.find_all('div', class_ = 'body')\n",
    "\n",
    "    for review in reviews:\n",
    "        table = review.find('table')\n",
    "        fields = table.find_all('tr')\n",
    "        for field in fields:\n",
    "            attribute = field.find_all('td')[0].text\n",
    "            value = field.find_all('td')[1].text\n",
    "            rating = len(field.find_all('td')[1].find_all('span', class_ = \"star fill\"))\n",
    "            if attribute in columns:\n",
    "                if rating == 0:\n",
    "                    df.loc[temp_row1, attribute] = value\n",
    "                else:\n",
    "                    df.loc[temp_row1, attribute] = rating\n",
    "        temp_row1 += 1\n",
    "    \n",
    "    texts = soup.find_all('div', class_ = 'text_content')\n",
    "    \n",
    "    for text in texts:\n",
    "        text = text.text[15:]        # without 'Trip Verified'/ 'Not Verified'\n",
    "        df2.loc[temp_row2,'Text'] = text            # add value to dataframe\n",
    "        temp_row2 += 1"
   ]
  },
  {
   "cell_type": "markdown",
   "id": "cf408958",
   "metadata": {},
   "source": [
    "# Quick EDA"
   ]
  },
  {
   "cell_type": "code",
   "execution_count": 3,
   "id": "e095a305",
   "metadata": {},
   "outputs": [],
   "source": [
    "df1 = df.copy()"
   ]
  },
  {
   "cell_type": "code",
   "execution_count": 4,
   "id": "76fad236",
   "metadata": {},
   "outputs": [
    {
     "name": "stdout",
     "output_type": "stream",
     "text": [
      "<class 'pandas.core.frame.DataFrame'>\n",
      "Int64Index: 3432 entries, 0 to 3431\n",
      "Data columns (total 12 columns):\n",
      " #   Column                  Non-Null Count  Dtype \n",
      "---  ------                  --------------  ----- \n",
      " 0   Date Flown              2654 non-null   object\n",
      " 1   Aircraft                1793 non-null   object\n",
      " 2   Type Of Traveller       2662 non-null   object\n",
      " 3   Seat Type               3430 non-null   object\n",
      " 4   Seat Comfort            3334 non-null   object\n",
      " 5   Cabin Staff Service     3326 non-null   object\n",
      " 6   Food & Beverages        3101 non-null   object\n",
      " 7   Inflight Entertainment  2416 non-null   object\n",
      " 8   Ground Service          2596 non-null   object\n",
      " 9   Value For Money         3432 non-null   object\n",
      " 10  Wifi & Connectivity     507 non-null    object\n",
      " 11  Recommended             3432 non-null   object\n",
      "dtypes: object(12)\n",
      "memory usage: 477.6+ KB\n"
     ]
    }
   ],
   "source": [
    "df1.info()"
   ]
  },
  {
   "cell_type": "code",
   "execution_count": 5,
   "id": "dd71f6cf",
   "metadata": {},
   "outputs": [
    {
     "data": {
      "text/html": [
       "<div>\n",
       "<style scoped>\n",
       "    .dataframe tbody tr th:only-of-type {\n",
       "        vertical-align: middle;\n",
       "    }\n",
       "\n",
       "    .dataframe tbody tr th {\n",
       "        vertical-align: top;\n",
       "    }\n",
       "\n",
       "    .dataframe thead th {\n",
       "        text-align: right;\n",
       "    }\n",
       "</style>\n",
       "<table border=\"1\" class=\"dataframe\">\n",
       "  <thead>\n",
       "    <tr style=\"text-align: right;\">\n",
       "      <th></th>\n",
       "      <th>Date Flown</th>\n",
       "      <th>Aircraft</th>\n",
       "      <th>Type Of Traveller</th>\n",
       "      <th>Seat Type</th>\n",
       "      <th>Seat Comfort</th>\n",
       "      <th>Cabin Staff Service</th>\n",
       "      <th>Food &amp; Beverages</th>\n",
       "      <th>Inflight Entertainment</th>\n",
       "      <th>Ground Service</th>\n",
       "      <th>Value For Money</th>\n",
       "      <th>Wifi &amp; Connectivity</th>\n",
       "      <th>Recommended</th>\n",
       "    </tr>\n",
       "  </thead>\n",
       "  <tbody>\n",
       "    <tr>\n",
       "      <th>0</th>\n",
       "      <td>December 2022</td>\n",
       "      <td>A320</td>\n",
       "      <td>Business</td>\n",
       "      <td>Business Class</td>\n",
       "      <td>5</td>\n",
       "      <td>5</td>\n",
       "      <td>3</td>\n",
       "      <td>3</td>\n",
       "      <td>5</td>\n",
       "      <td>3</td>\n",
       "      <td>3</td>\n",
       "      <td>no</td>\n",
       "    </tr>\n",
       "    <tr>\n",
       "      <th>1</th>\n",
       "      <td>December 2022</td>\n",
       "      <td>Boeing 777</td>\n",
       "      <td>Couple Leisure</td>\n",
       "      <td>Premium Economy</td>\n",
       "      <td>3</td>\n",
       "      <td>4</td>\n",
       "      <td>3</td>\n",
       "      <td>NaN</td>\n",
       "      <td>3</td>\n",
       "      <td>3</td>\n",
       "      <td>NaN</td>\n",
       "      <td>yes</td>\n",
       "    </tr>\n",
       "    <tr>\n",
       "      <th>2</th>\n",
       "      <td>November 2022</td>\n",
       "      <td>A320</td>\n",
       "      <td>Solo Leisure</td>\n",
       "      <td>Business Class</td>\n",
       "      <td>2</td>\n",
       "      <td>1</td>\n",
       "      <td>1</td>\n",
       "      <td>NaN</td>\n",
       "      <td>2</td>\n",
       "      <td>1</td>\n",
       "      <td>NaN</td>\n",
       "      <td>no</td>\n",
       "    </tr>\n",
       "    <tr>\n",
       "      <th>3</th>\n",
       "      <td>December 2022</td>\n",
       "      <td>NaN</td>\n",
       "      <td>Business</td>\n",
       "      <td>Business Class</td>\n",
       "      <td>1</td>\n",
       "      <td>NaN</td>\n",
       "      <td>NaN</td>\n",
       "      <td>NaN</td>\n",
       "      <td>2</td>\n",
       "      <td>3</td>\n",
       "      <td>NaN</td>\n",
       "      <td>no</td>\n",
       "    </tr>\n",
       "    <tr>\n",
       "      <th>4</th>\n",
       "      <td>December 2022</td>\n",
       "      <td>NaN</td>\n",
       "      <td>Family Leisure</td>\n",
       "      <td>Economy Class</td>\n",
       "      <td>3</td>\n",
       "      <td>2</td>\n",
       "      <td>1</td>\n",
       "      <td>NaN</td>\n",
       "      <td>3</td>\n",
       "      <td>2</td>\n",
       "      <td>NaN</td>\n",
       "      <td>no</td>\n",
       "    </tr>\n",
       "  </tbody>\n",
       "</table>\n",
       "</div>"
      ],
      "text/plain": [
       "      Date Flown    Aircraft Type Of Traveller        Seat Type Seat Comfort  \\\n",
       "0  December 2022        A320          Business   Business Class            5   \n",
       "1  December 2022  Boeing 777    Couple Leisure  Premium Economy            3   \n",
       "2  November 2022        A320      Solo Leisure   Business Class            2   \n",
       "3  December 2022         NaN          Business   Business Class            1   \n",
       "4  December 2022         NaN    Family Leisure    Economy Class            3   \n",
       "\n",
       "  Cabin Staff Service Food & Beverages Inflight Entertainment Ground Service  \\\n",
       "0                   5                3                      3              5   \n",
       "1                   4                3                    NaN              3   \n",
       "2                   1                1                    NaN              2   \n",
       "3                 NaN              NaN                    NaN              2   \n",
       "4                   2                1                    NaN              3   \n",
       "\n",
       "  Value For Money Wifi & Connectivity Recommended  \n",
       "0               3                   3          no  \n",
       "1               3                 NaN         yes  \n",
       "2               1                 NaN          no  \n",
       "3               3                 NaN          no  \n",
       "4               2                 NaN          no  "
      ]
     },
     "execution_count": 5,
     "metadata": {},
     "output_type": "execute_result"
    }
   ],
   "source": [
    "df1.head()"
   ]
  },
  {
   "cell_type": "code",
   "execution_count": 6,
   "id": "da5b3415",
   "metadata": {},
   "outputs": [],
   "source": [
    "# fill missing values in columns containing ratings (4:10) with corresponding median value \n",
    "for col in df1.iloc[:, 4:11].columns:\n",
    "    df1[col].replace('N/A', np.nan, inplace=True)\n",
    "    df1[col] = df1[col].astype('Int64').fillna(df1[col].median())\n",
    "    \n",
    "df1['Recommended'].replace(['yes', 'no'], [1, 0], inplace = True)                    # yes/no --> 1/0"
   ]
  },
  {
   "cell_type": "code",
   "execution_count": 7,
   "id": "e05c73e4",
   "metadata": {},
   "outputs": [
    {
     "data": {
      "text/html": [
       "<div>\n",
       "<style scoped>\n",
       "    .dataframe tbody tr th:only-of-type {\n",
       "        vertical-align: middle;\n",
       "    }\n",
       "\n",
       "    .dataframe tbody tr th {\n",
       "        vertical-align: top;\n",
       "    }\n",
       "\n",
       "    .dataframe thead th {\n",
       "        text-align: right;\n",
       "    }\n",
       "</style>\n",
       "<table border=\"1\" class=\"dataframe\">\n",
       "  <thead>\n",
       "    <tr style=\"text-align: right;\">\n",
       "      <th></th>\n",
       "      <th>Seat Type</th>\n",
       "      <th>Seat Comfort</th>\n",
       "      <th>Cabin Staff Service</th>\n",
       "      <th>Food &amp; Beverages</th>\n",
       "      <th>Inflight Entertainment</th>\n",
       "      <th>Ground Service</th>\n",
       "      <th>Value For Money</th>\n",
       "      <th>Wifi &amp; Connectivity</th>\n",
       "      <th>Recommended</th>\n",
       "    </tr>\n",
       "  </thead>\n",
       "  <tbody>\n",
       "    <tr>\n",
       "      <th>0</th>\n",
       "      <td>Business Class</td>\n",
       "      <td>5</td>\n",
       "      <td>5</td>\n",
       "      <td>3</td>\n",
       "      <td>3</td>\n",
       "      <td>5</td>\n",
       "      <td>3</td>\n",
       "      <td>3</td>\n",
       "      <td>0</td>\n",
       "    </tr>\n",
       "    <tr>\n",
       "      <th>1</th>\n",
       "      <td>Premium Economy</td>\n",
       "      <td>3</td>\n",
       "      <td>4</td>\n",
       "      <td>3</td>\n",
       "      <td>3</td>\n",
       "      <td>3</td>\n",
       "      <td>3</td>\n",
       "      <td>1</td>\n",
       "      <td>1</td>\n",
       "    </tr>\n",
       "    <tr>\n",
       "      <th>2</th>\n",
       "      <td>Business Class</td>\n",
       "      <td>2</td>\n",
       "      <td>1</td>\n",
       "      <td>1</td>\n",
       "      <td>3</td>\n",
       "      <td>2</td>\n",
       "      <td>1</td>\n",
       "      <td>1</td>\n",
       "      <td>0</td>\n",
       "    </tr>\n",
       "    <tr>\n",
       "      <th>3</th>\n",
       "      <td>Business Class</td>\n",
       "      <td>1</td>\n",
       "      <td>4</td>\n",
       "      <td>3</td>\n",
       "      <td>3</td>\n",
       "      <td>2</td>\n",
       "      <td>3</td>\n",
       "      <td>1</td>\n",
       "      <td>0</td>\n",
       "    </tr>\n",
       "    <tr>\n",
       "      <th>4</th>\n",
       "      <td>Economy Class</td>\n",
       "      <td>3</td>\n",
       "      <td>2</td>\n",
       "      <td>1</td>\n",
       "      <td>3</td>\n",
       "      <td>3</td>\n",
       "      <td>2</td>\n",
       "      <td>1</td>\n",
       "      <td>0</td>\n",
       "    </tr>\n",
       "  </tbody>\n",
       "</table>\n",
       "</div>"
      ],
      "text/plain": [
       "         Seat Type  Seat Comfort  Cabin Staff Service  Food & Beverages  \\\n",
       "0   Business Class             5                    5                 3   \n",
       "1  Premium Economy             3                    4                 3   \n",
       "2   Business Class             2                    1                 1   \n",
       "3   Business Class             1                    4                 3   \n",
       "4    Economy Class             3                    2                 1   \n",
       "\n",
       "   Inflight Entertainment  Ground Service  Value For Money  \\\n",
       "0                       3               5                3   \n",
       "1                       3               3                3   \n",
       "2                       3               2                1   \n",
       "3                       3               2                3   \n",
       "4                       3               3                2   \n",
       "\n",
       "   Wifi & Connectivity  Recommended  \n",
       "0                    3            0  \n",
       "1                    1            1  \n",
       "2                    1            0  \n",
       "3                    1            0  \n",
       "4                    1            0  "
      ]
     },
     "execution_count": 7,
     "metadata": {},
     "output_type": "execute_result"
    }
   ],
   "source": [
    "# drop unnecessary features \n",
    "df1 = df1.iloc[:, 3:]\n",
    "df1.head()"
   ]
  },
  {
   "cell_type": "code",
   "execution_count": 8,
   "id": "32ac0964",
   "metadata": {},
   "outputs": [
    {
     "data": {
      "text/html": [
       "<div>\n",
       "<style scoped>\n",
       "    .dataframe tbody tr th:only-of-type {\n",
       "        vertical-align: middle;\n",
       "    }\n",
       "\n",
       "    .dataframe tbody tr th {\n",
       "        vertical-align: top;\n",
       "    }\n",
       "\n",
       "    .dataframe thead th {\n",
       "        text-align: right;\n",
       "    }\n",
       "</style>\n",
       "<table border=\"1\" class=\"dataframe\">\n",
       "  <thead>\n",
       "    <tr style=\"text-align: right;\">\n",
       "      <th></th>\n",
       "      <th>Seat Comfort</th>\n",
       "      <th>Cabin Staff Service</th>\n",
       "      <th>Food &amp; Beverages</th>\n",
       "      <th>Inflight Entertainment</th>\n",
       "      <th>Ground Service</th>\n",
       "      <th>Value For Money</th>\n",
       "      <th>Wifi &amp; Connectivity</th>\n",
       "      <th>Recommended</th>\n",
       "    </tr>\n",
       "    <tr>\n",
       "      <th>Seat Type</th>\n",
       "      <th></th>\n",
       "      <th></th>\n",
       "      <th></th>\n",
       "      <th></th>\n",
       "      <th></th>\n",
       "      <th></th>\n",
       "      <th></th>\n",
       "      <th></th>\n",
       "    </tr>\n",
       "  </thead>\n",
       "  <tbody>\n",
       "    <tr>\n",
       "      <th>Business Class</th>\n",
       "      <td>3</td>\n",
       "      <td>4</td>\n",
       "      <td>3</td>\n",
       "      <td>3</td>\n",
       "      <td>3</td>\n",
       "      <td>3</td>\n",
       "      <td>1</td>\n",
       "      <td>0</td>\n",
       "    </tr>\n",
       "    <tr>\n",
       "      <th>Economy Class</th>\n",
       "      <td>3</td>\n",
       "      <td>3</td>\n",
       "      <td>3</td>\n",
       "      <td>3</td>\n",
       "      <td>3</td>\n",
       "      <td>3</td>\n",
       "      <td>1</td>\n",
       "      <td>0</td>\n",
       "    </tr>\n",
       "    <tr>\n",
       "      <th>First Class</th>\n",
       "      <td>4</td>\n",
       "      <td>4</td>\n",
       "      <td>3</td>\n",
       "      <td>3</td>\n",
       "      <td>3</td>\n",
       "      <td>3</td>\n",
       "      <td>1</td>\n",
       "      <td>0</td>\n",
       "    </tr>\n",
       "    <tr>\n",
       "      <th>Premium Economy</th>\n",
       "      <td>3</td>\n",
       "      <td>3</td>\n",
       "      <td>3</td>\n",
       "      <td>3</td>\n",
       "      <td>3</td>\n",
       "      <td>3</td>\n",
       "      <td>1</td>\n",
       "      <td>0</td>\n",
       "    </tr>\n",
       "  </tbody>\n",
       "</table>\n",
       "</div>"
      ],
      "text/plain": [
       "                 Seat Comfort  Cabin Staff Service  Food & Beverages  \\\n",
       "Seat Type                                                              \n",
       "Business Class              3                    4                 3   \n",
       "Economy Class               3                    3                 3   \n",
       "First Class                 4                    4                 3   \n",
       "Premium Economy             3                    3                 3   \n",
       "\n",
       "                 Inflight Entertainment  Ground Service  Value For Money  \\\n",
       "Seat Type                                                                  \n",
       "Business Class                        3               3                3   \n",
       "Economy Class                         3               3                3   \n",
       "First Class                           3               3                3   \n",
       "Premium Economy                       3               3                3   \n",
       "\n",
       "                 Wifi & Connectivity  Recommended  \n",
       "Seat Type                                          \n",
       "Business Class                     1            0  \n",
       "Economy Class                      1            0  \n",
       "First Class                        1            0  \n",
       "Premium Economy                    1            0  "
      ]
     },
     "execution_count": 8,
     "metadata": {},
     "output_type": "execute_result"
    }
   ],
   "source": [
    "# pivot table with ratings' median values estimated for each Seat Type\n",
    "ratings_by_SeatType = df1.groupby([\"Seat Type\"]).median().astype(int)\n",
    "ratings_by_SeatType"
   ]
  },
  {
   "cell_type": "code",
   "execution_count": 9,
   "id": "00145477",
   "metadata": {},
   "outputs": [
    {
     "name": "stderr",
     "output_type": "stream",
     "text": [
      "C:\\Users\\User\\AppData\\Local\\Temp/ipykernel_4928/2034191930.py:2: FutureWarning: Dropping of nuisance columns in DataFrame reductions (with 'numeric_only=None') is deprecated; in a future version this will raise TypeError.  Select only valid columns before calling the reduction.\n",
      "  avr = df1.median().astype(int)\n"
     ]
    },
    {
     "data": {
      "text/plain": [
       "Seat Comfort              3\n",
       "Cabin Staff Service       4\n",
       "Food & Beverages          3\n",
       "Inflight Entertainment    3\n",
       "Ground Service            3\n",
       "Value For Money           3\n",
       "Wifi & Connectivity       1\n",
       "Recommended               0\n",
       "dtype: int32"
      ]
     },
     "execution_count": 9,
     "metadata": {},
     "output_type": "execute_result"
    }
   ],
   "source": [
    "# ratings' median values\n",
    "avr = df1.median().astype(int)\n",
    "avr"
   ]
  },
  {
   "cell_type": "code",
   "execution_count": 10,
   "id": "aaa13cb2",
   "metadata": {},
   "outputs": [
    {
     "data": {
      "text/plain": [
       "0    195\n",
       "1    143\n",
       "Name: Recommended, dtype: int64"
      ]
     },
     "execution_count": 10,
     "metadata": {},
     "output_type": "execute_result"
    }
   ],
   "source": [
    "df1[df1['Seat Type'] == 'Premium Economy'].Recommended.value_counts()"
   ]
  },
  {
   "cell_type": "code",
   "execution_count": 11,
   "id": "25b3fc1f",
   "metadata": {},
   "outputs": [],
   "source": [
    "df.to_csv('raw_BritishAirwaysReviews.csv', na_rep='NaN', sep = ',')\n",
    "df1.to_csv('pretty_BritishAirwayReviews.csv', na_rep='NaN', sep=',')\n",
    "df2.to_csv('textReviews.csv', na_rep='NaN', sep=',')"
   ]
  },
  {
   "cell_type": "code",
   "execution_count": 12,
   "id": "16bfa3e2",
   "metadata": {},
   "outputs": [],
   "source": [
    "#df1 = pd.read_csv('pretty_BritishAirwayReviews.csv')"
   ]
  },
  {
   "cell_type": "markdown",
   "id": "aabb14a7",
   "metadata": {},
   "source": [
    "# Sentiment Analysis"
   ]
  },
  {
   "cell_type": "code",
   "execution_count": 13,
   "id": "462e4475",
   "metadata": {},
   "outputs": [
    {
     "data": {
      "text/html": [
       "<div>\n",
       "<style scoped>\n",
       "    .dataframe tbody tr th:only-of-type {\n",
       "        vertical-align: middle;\n",
       "    }\n",
       "\n",
       "    .dataframe tbody tr th {\n",
       "        vertical-align: top;\n",
       "    }\n",
       "\n",
       "    .dataframe thead th {\n",
       "        text-align: right;\n",
       "    }\n",
       "</style>\n",
       "<table border=\"1\" class=\"dataframe\">\n",
       "  <thead>\n",
       "    <tr style=\"text-align: right;\">\n",
       "      <th></th>\n",
       "      <th>Text</th>\n",
       "    </tr>\n",
       "  </thead>\n",
       "  <tbody>\n",
       "    <tr>\n",
       "      <th>0</th>\n",
       "      <td>|  Glasgow to London delayed by 1 hour. My wi...</td>\n",
       "    </tr>\n",
       "    <tr>\n",
       "      <th>1</th>\n",
       "      <td>|  When I tried to check in online, I was off...</td>\n",
       "    </tr>\n",
       "    <tr>\n",
       "      <th>2</th>\n",
       "      <td>|  I flew from Prague to LHR. Excellent servi...</td>\n",
       "    </tr>\n",
       "    <tr>\n",
       "      <th>3</th>\n",
       "      <td>|  Disappointing again especially on business...</td>\n",
       "    </tr>\n",
       "    <tr>\n",
       "      <th>4</th>\n",
       "      <td>|  During both the outbound and return flight...</td>\n",
       "    </tr>\n",
       "  </tbody>\n",
       "</table>\n",
       "</div>"
      ],
      "text/plain": [
       "                                                Text\n",
       "0   |  Glasgow to London delayed by 1 hour. My wi...\n",
       "1   |  When I tried to check in online, I was off...\n",
       "2   |  I flew from Prague to LHR. Excellent servi...\n",
       "3   |  Disappointing again especially on business...\n",
       "4   |  During both the outbound and return flight..."
      ]
     },
     "execution_count": 13,
     "metadata": {},
     "output_type": "execute_result"
    }
   ],
   "source": [
    "df2.head()"
   ]
  },
  {
   "cell_type": "code",
   "execution_count": 14,
   "id": "0e1998ef",
   "metadata": {},
   "outputs": [
    {
     "data": {
      "text/html": [
       "<div>\n",
       "<style scoped>\n",
       "    .dataframe tbody tr th:only-of-type {\n",
       "        vertical-align: middle;\n",
       "    }\n",
       "\n",
       "    .dataframe tbody tr th {\n",
       "        vertical-align: top;\n",
       "    }\n",
       "\n",
       "    .dataframe thead th {\n",
       "        text-align: right;\n",
       "    }\n",
       "</style>\n",
       "<table border=\"1\" class=\"dataframe\">\n",
       "  <thead>\n",
       "    <tr style=\"text-align: right;\">\n",
       "      <th></th>\n",
       "      <th>index</th>\n",
       "      <th>Text</th>\n",
       "    </tr>\n",
       "  </thead>\n",
       "  <tbody>\n",
       "    <tr>\n",
       "      <th>0</th>\n",
       "      <td>0</td>\n",
       "      <td>|  Glasgow to London delayed by 1 hour. My wi...</td>\n",
       "    </tr>\n",
       "    <tr>\n",
       "      <th>1</th>\n",
       "      <td>1</td>\n",
       "      <td>|  When I tried to check in online, I was off...</td>\n",
       "    </tr>\n",
       "    <tr>\n",
       "      <th>2</th>\n",
       "      <td>2</td>\n",
       "      <td>|  I flew from Prague to LHR. Excellent servi...</td>\n",
       "    </tr>\n",
       "    <tr>\n",
       "      <th>3</th>\n",
       "      <td>3</td>\n",
       "      <td>|  Disappointing again especially on business...</td>\n",
       "    </tr>\n",
       "    <tr>\n",
       "      <th>4</th>\n",
       "      <td>4</td>\n",
       "      <td>|  During both the outbound and return flight...</td>\n",
       "    </tr>\n",
       "  </tbody>\n",
       "</table>\n",
       "</div>"
      ],
      "text/plain": [
       "   index                                               Text\n",
       "0      0   |  Glasgow to London delayed by 1 hour. My wi...\n",
       "1      1   |  When I tried to check in online, I was off...\n",
       "2      2   |  I flew from Prague to LHR. Excellent servi...\n",
       "3      3   |  Disappointing again especially on business...\n",
       "4      4   |  During both the outbound and return flight..."
      ]
     },
     "execution_count": 14,
     "metadata": {},
     "output_type": "execute_result"
    }
   ],
   "source": [
    "df2 = df2.reset_index()\n",
    "df2.head()"
   ]
  },
  {
   "cell_type": "markdown",
   "id": "c40b2f4a",
   "metadata": {},
   "source": [
    "## Basic NLTK"
   ]
  },
  {
   "cell_type": "code",
   "execution_count": 15,
   "id": "fb396b29",
   "metadata": {},
   "outputs": [],
   "source": [
    "## Basic NLTK\n",
    "import nltk\n",
    "#nltk.download('punkt')\n",
    "#nltk.download(\"book\")\n",
    "#nltk.download('vader_lexicon') "
   ]
  },
  {
   "cell_type": "markdown",
   "id": "59ddffa7",
   "metadata": {},
   "source": [
    "Let's see how it works on a single example"
   ]
  },
  {
   "cell_type": "code",
   "execution_count": 17,
   "id": "fba62149",
   "metadata": {},
   "outputs": [
    {
     "data": {
      "text/plain": [
       "' |  Manchester to Seattle via London. I will never fly BA again. They cancelled my return flight from Heathrow back to Manchester and then cancelled the alternative offered. We had to get our son come all the way to London to pick us up and take us to our car in Manchester. The food was terrible and on the return journey as soon as they had finished serving they were round taking our trays so that they could settle down for the night. I will not be flying BA again'"
      ]
     },
     "execution_count": 17,
     "metadata": {},
     "output_type": "execute_result"
    }
   ],
   "source": [
    "example = df2['Text'][50]                 \n",
    "example"
   ]
  },
  {
   "cell_type": "code",
   "execution_count": 18,
   "id": "55aa62a9",
   "metadata": {},
   "outputs": [
    {
     "data": {
      "text/plain": [
       "['|',\n",
       " 'Manchester',\n",
       " 'to',\n",
       " 'Seattle',\n",
       " 'via',\n",
       " 'London',\n",
       " '.',\n",
       " 'I',\n",
       " 'will',\n",
       " 'never']"
      ]
     },
     "execution_count": 18,
     "metadata": {},
     "output_type": "execute_result"
    }
   ],
   "source": [
    "tokens = nltk.word_tokenize(example)\n",
    "tokens[:10]"
   ]
  },
  {
   "cell_type": "code",
   "execution_count": 19,
   "id": "616a6561",
   "metadata": {},
   "outputs": [
    {
     "data": {
      "text/plain": [
       "[('|', 'RB'),\n",
       " ('Manchester', 'NNP'),\n",
       " ('to', 'TO'),\n",
       " ('Seattle', 'NNP'),\n",
       " ('via', 'IN'),\n",
       " ('London', 'NNP'),\n",
       " ('.', '.'),\n",
       " ('I', 'PRP'),\n",
       " ('will', 'MD'),\n",
       " ('never', 'RB')]"
      ]
     },
     "execution_count": 19,
     "metadata": {},
     "output_type": "execute_result"
    }
   ],
   "source": [
    "tagged = nltk.pos_tag(tokens)\n",
    "tagged[:10]"
   ]
  },
  {
   "cell_type": "code",
   "execution_count": 20,
   "id": "1b1c67be",
   "metadata": {},
   "outputs": [
    {
     "name": "stdout",
     "output_type": "stream",
     "text": [
      "(S\n",
      "  |/RB\n",
      "  Manchester/NNP\n",
      "  to/TO\n",
      "  (GPE Seattle/NNP)\n",
      "  via/IN\n",
      "  (GPE London/NNP)\n",
      "  ./.\n",
      "  I/PRP\n",
      "  will/MD\n",
      "  never/RB\n",
      "  fly/VB\n",
      "  BA/NNP\n",
      "  again/RB\n",
      "  ./.\n",
      "  They/PRP\n",
      "  cancelled/VBD\n",
      "  my/PRP$\n",
      "  return/NN\n",
      "  flight/NN\n",
      "  from/IN\n",
      "  (GPE Heathrow/NNP)\n",
      "  back/RB\n",
      "  to/TO\n",
      "  Manchester/NNP\n",
      "  and/CC\n",
      "  then/RB\n",
      "  cancelled/VBD\n",
      "  the/DT\n",
      "  alternative/NN\n",
      "  offered/VBN\n",
      "  ./.\n",
      "  We/PRP\n",
      "  had/VBD\n",
      "  to/TO\n",
      "  get/VB\n",
      "  our/PRP$\n",
      "  son/NN\n",
      "  come/VB\n",
      "  all/PDT\n",
      "  the/DT\n",
      "  way/NN\n",
      "  to/TO\n",
      "  (GPE London/NNP)\n",
      "  to/TO\n",
      "  pick/VB\n",
      "  us/PRP\n",
      "  up/RP\n",
      "  and/CC\n",
      "  take/VB\n",
      "  us/PRP\n",
      "  to/TO\n",
      "  our/PRP$\n",
      "  car/NN\n",
      "  in/IN\n",
      "  Manchester/NNP\n",
      "  ./.\n",
      "  The/DT\n",
      "  food/NN\n",
      "  was/VBD\n",
      "  terrible/JJ\n",
      "  and/CC\n",
      "  on/IN\n",
      "  the/DT\n",
      "  return/NN\n",
      "  journey/NN\n",
      "  as/RB\n",
      "  soon/RB\n",
      "  as/IN\n",
      "  they/PRP\n",
      "  had/VBD\n",
      "  finished/VBN\n",
      "  serving/VBG\n",
      "  they/PRP\n",
      "  were/VBD\n",
      "  round/VBN\n",
      "  taking/VBG\n",
      "  our/PRP$\n",
      "  trays/NNS\n",
      "  so/RB\n",
      "  that/IN\n",
      "  they/PRP\n",
      "  could/MD\n",
      "  settle/VB\n",
      "  down/RP\n",
      "  for/IN\n",
      "  the/DT\n",
      "  night/NN\n",
      "  ./.\n",
      "  I/PRP\n",
      "  will/MD\n",
      "  not/RB\n",
      "  be/VB\n",
      "  flying/VBG\n",
      "  BA/NNP\n",
      "  again/RB)\n"
     ]
    }
   ],
   "source": [
    "entities = nltk.chunk.ne_chunk(tagged)\n",
    "entities.pprint()"
   ]
  },
  {
   "cell_type": "markdown",
   "id": "8cbb86ae",
   "metadata": {},
   "source": [
    "## Vader Sentiment Scoring\n",
    "VADER (Valence Aware Dictionary and sEntiment Reasoner).\n",
    "We will use NLTK's SentimentIntensityAnalyzer to get the neg/neu/pos scores of the text.\n",
    "This uses a \"bag of words\" approach:\n",
    "1. Stop words are removed\n",
    "2. each word is scored and combined to a total score."
   ]
  },
  {
   "cell_type": "code",
   "execution_count": 21,
   "id": "20f2201c",
   "metadata": {},
   "outputs": [],
   "source": [
    "from nltk.sentiment import SentimentIntensityAnalyzer\n",
    "from tqdm.notebook import tqdm"
   ]
  },
  {
   "cell_type": "code",
   "execution_count": 22,
   "id": "997a2077",
   "metadata": {},
   "outputs": [],
   "source": [
    "sia = SentimentIntensityAnalyzer()"
   ]
  },
  {
   "cell_type": "code",
   "execution_count": 23,
   "id": "1601e553",
   "metadata": {},
   "outputs": [
    {
     "name": "stdout",
     "output_type": "stream",
     "text": [
      "{'neg': 0.451, 'neu': 0.549, 'pos': 0.0, 'compound': -0.6249}\n",
      "{'neg': 0.078, 'neu': 0.922, 'pos': 0.0, 'compound': -0.7269}\n"
     ]
    }
   ],
   "source": [
    "# let's see how it works\n",
    "print(sia.polarity_scores('This is the worst thing ever.'))\n",
    "print(sia.polarity_scores(example))"
   ]
  },
  {
   "cell_type": "code",
   "execution_count": 24,
   "id": "99fdb6d3",
   "metadata": {},
   "outputs": [
    {
     "data": {
      "application/vnd.jupyter.widget-view+json": {
       "model_id": "b58b0c6231d842bbb62f3ae812c2d039",
       "version_major": 2,
       "version_minor": 0
      },
      "text/plain": [
       "  0%|          | 0/3432 [00:00<?, ?it/s]"
      ]
     },
     "metadata": {},
     "output_type": "display_data"
    }
   ],
   "source": [
    "# Run the polarity score on the entire dataset\n",
    "res = {}\n",
    "for i, row in tqdm(df2.iterrows(), total=len(df2)):\n",
    "    text = row['Text']\n",
    "    res[i] = sia.polarity_scores(text)"
   ]
  },
  {
   "cell_type": "code",
   "execution_count": 25,
   "id": "841b8e55",
   "metadata": {},
   "outputs": [
    {
     "data": {
      "text/html": [
       "<div>\n",
       "<style scoped>\n",
       "    .dataframe tbody tr th:only-of-type {\n",
       "        vertical-align: middle;\n",
       "    }\n",
       "\n",
       "    .dataframe tbody tr th {\n",
       "        vertical-align: top;\n",
       "    }\n",
       "\n",
       "    .dataframe thead th {\n",
       "        text-align: right;\n",
       "    }\n",
       "</style>\n",
       "<table border=\"1\" class=\"dataframe\">\n",
       "  <thead>\n",
       "    <tr style=\"text-align: right;\">\n",
       "      <th></th>\n",
       "      <th>index</th>\n",
       "      <th>neg</th>\n",
       "      <th>neu</th>\n",
       "      <th>pos</th>\n",
       "      <th>compound</th>\n",
       "      <th>Text</th>\n",
       "    </tr>\n",
       "  </thead>\n",
       "  <tbody>\n",
       "    <tr>\n",
       "      <th>0</th>\n",
       "      <td>0</td>\n",
       "      <td>0.181</td>\n",
       "      <td>0.734</td>\n",
       "      <td>0.085</td>\n",
       "      <td>-0.5984</td>\n",
       "      <td>|  Glasgow to London delayed by 1 hour. My wi...</td>\n",
       "    </tr>\n",
       "    <tr>\n",
       "      <th>1</th>\n",
       "      <td>1</td>\n",
       "      <td>0.021</td>\n",
       "      <td>0.828</td>\n",
       "      <td>0.151</td>\n",
       "      <td>0.9867</td>\n",
       "      <td>|  When I tried to check in online, I was off...</td>\n",
       "    </tr>\n",
       "    <tr>\n",
       "      <th>2</th>\n",
       "      <td>2</td>\n",
       "      <td>0.078</td>\n",
       "      <td>0.849</td>\n",
       "      <td>0.073</td>\n",
       "      <td>0.2669</td>\n",
       "      <td>|  I flew from Prague to LHR. Excellent servi...</td>\n",
       "    </tr>\n",
       "    <tr>\n",
       "      <th>3</th>\n",
       "      <td>3</td>\n",
       "      <td>0.297</td>\n",
       "      <td>0.703</td>\n",
       "      <td>0.000</td>\n",
       "      <td>-0.8999</td>\n",
       "      <td>|  Disappointing again especially on business...</td>\n",
       "    </tr>\n",
       "    <tr>\n",
       "      <th>4</th>\n",
       "      <td>4</td>\n",
       "      <td>0.058</td>\n",
       "      <td>0.942</td>\n",
       "      <td>0.000</td>\n",
       "      <td>-0.5423</td>\n",
       "      <td>|  During both the outbound and return flight...</td>\n",
       "    </tr>\n",
       "  </tbody>\n",
       "</table>\n",
       "</div>"
      ],
      "text/plain": [
       "   index    neg    neu    pos  compound  \\\n",
       "0      0  0.181  0.734  0.085   -0.5984   \n",
       "1      1  0.021  0.828  0.151    0.9867   \n",
       "2      2  0.078  0.849  0.073    0.2669   \n",
       "3      3  0.297  0.703  0.000   -0.8999   \n",
       "4      4  0.058  0.942  0.000   -0.5423   \n",
       "\n",
       "                                                Text  \n",
       "0   |  Glasgow to London delayed by 1 hour. My wi...  \n",
       "1   |  When I tried to check in online, I was off...  \n",
       "2   |  I flew from Prague to LHR. Excellent servi...  \n",
       "3   |  Disappointing again especially on business...  \n",
       "4   |  During both the outbound and return flight...  "
      ]
     },
     "execution_count": 25,
     "metadata": {},
     "output_type": "execute_result"
    }
   ],
   "source": [
    "vaders = pd.DataFrame(res).T\n",
    "vaders = vaders.reset_index().merge(df2, how='left')\n",
    "vaders.head()"
   ]
  },
  {
   "cell_type": "markdown",
   "id": "db1c93c1",
   "metadata": {},
   "source": [
    "## Roberta Pretrained Model\n",
    "- A model trained on a large corpus of data.\n",
    "- Transformer model accounts for the words but also the context related to other words."
   ]
  },
  {
   "cell_type": "code",
   "execution_count": 26,
   "id": "fcb8b20d",
   "metadata": {},
   "outputs": [],
   "source": [
    "from transformers import AutoTokenizer\n",
    "from transformers import AutoModelForSequenceClassification\n",
    "from scipy.special import softmax"
   ]
  },
  {
   "cell_type": "code",
   "execution_count": 27,
   "id": "c3adf3b1",
   "metadata": {},
   "outputs": [],
   "source": [
    "MODEL = f\"cardiffnlp/twitter-roberta-base-sentiment\"\n",
    "tokenizer = AutoTokenizer.from_pretrained(MODEL)\n",
    "model = AutoModelForSequenceClassification.from_pretrained(MODEL)"
   ]
  },
  {
   "cell_type": "code",
   "execution_count": 28,
   "id": "cd241251",
   "metadata": {},
   "outputs": [
    {
     "name": "stdout",
     "output_type": "stream",
     "text": [
      "{'roberta_neg': 0.9509136, 'roberta_neu': 0.04329962, 'roberta_pos': 0.005786689}\n"
     ]
    }
   ],
   "source": [
    "# Run Roberta Model on an example\n",
    "encoded_text = tokenizer(example, return_tensors='pt')\n",
    "output = model(**encoded_text)\n",
    "scores = output[0][0].detach().numpy()\n",
    "scores = softmax(scores)\n",
    "scores_dict = {\n",
    "    'roberta_neg': scores[0],\n",
    "    'roberta_neu': scores[1],\n",
    "    'roberta_pos': scores[2]\n",
    "}"
   ]
  },
  {
   "cell_type": "code",
   "execution_count": 29,
   "id": "db985215",
   "metadata": {},
   "outputs": [
    {
     "name": "stdout",
     "output_type": "stream",
     "text": [
      "{'neg': 0.078, 'neu': 0.922, 'pos': 0.0, 'compound': -0.7269}\n",
      "{'roberta_neg': 0.9509136, 'roberta_neu': 0.04329962, 'roberta_pos': 0.005786689}\n"
     ]
    }
   ],
   "source": [
    "# Compare Vader and Roberta results\n",
    "print(sia.polarity_scores(example))\n",
    "print(scores_dict)"
   ]
  },
  {
   "cell_type": "code",
   "execution_count": 30,
   "id": "857ef0af",
   "metadata": {},
   "outputs": [],
   "source": [
    "def polarity_scores_roberta(example):\n",
    "    encoded_text = tokenizer(example, return_tensors='pt')\n",
    "    output = model(**encoded_text)\n",
    "    scores = output[0][0].detach().numpy()\n",
    "    scores = softmax(scores)\n",
    "    scores_dict = {\n",
    "        'roberta_neg': scores[0],\n",
    "        'roberta_neu': scores[1],\n",
    "        'roberta_pos': scores[2]\n",
    "    }\n",
    "    return scores_dict   "
   ]
  },
  {
   "cell_type": "code",
   "execution_count": 35,
   "id": "40845955",
   "metadata": {},
   "outputs": [
    {
     "data": {
      "application/vnd.jupyter.widget-view+json": {
       "model_id": "799659416bff4d5bb545fffcbf14c1ed",
       "version_major": 2,
       "version_minor": 0
      },
      "text/plain": [
       "  0%|          | 0/100 [00:00<?, ?it/s]"
      ]
     },
     "metadata": {},
     "output_type": "display_data"
    },
    {
     "name": "stdout",
     "output_type": "stream",
     "text": [
      "Broke for id 67\n",
      "Broke for id 87\n"
     ]
    }
   ],
   "source": [
    "# Combine Vader and Roberta results of the 1st 100 reviews (due to computer's capacity)\n",
    "res = {}\n",
    "for i, row in tqdm(df2[:100].iterrows(), total = 100):\n",
    "    try:\n",
    "        text = row['Text']\n",
    "        vader_result = sia.polarity_scores(text)\n",
    "        vader_result_rename = {}\n",
    "        for key, value in vader_result.items():\n",
    "            vader_result_rename[f\"vader_{key}\"] = value\n",
    "        roberta_result = polarity_scores_roberta(text)\n",
    "        both = {**vader_result_rename, **roberta_result}\n",
    "        res[i] = both\n",
    "    except RuntimeError:\n",
    "        print(f\"Broke for id {i}\")"
   ]
  },
  {
   "cell_type": "code",
   "execution_count": 40,
   "id": "e850d366",
   "metadata": {},
   "outputs": [
    {
     "data": {
      "text/html": [
       "<div>\n",
       "<style scoped>\n",
       "    .dataframe tbody tr th:only-of-type {\n",
       "        vertical-align: middle;\n",
       "    }\n",
       "\n",
       "    .dataframe tbody tr th {\n",
       "        vertical-align: top;\n",
       "    }\n",
       "\n",
       "    .dataframe thead th {\n",
       "        text-align: right;\n",
       "    }\n",
       "</style>\n",
       "<table border=\"1\" class=\"dataframe\">\n",
       "  <thead>\n",
       "    <tr style=\"text-align: right;\">\n",
       "      <th></th>\n",
       "      <th>index</th>\n",
       "      <th>vader_neg</th>\n",
       "      <th>vader_neu</th>\n",
       "      <th>vader_pos</th>\n",
       "      <th>vader_compound</th>\n",
       "      <th>roberta_neg</th>\n",
       "      <th>roberta_neu</th>\n",
       "      <th>roberta_pos</th>\n",
       "      <th>Text</th>\n",
       "    </tr>\n",
       "  </thead>\n",
       "  <tbody>\n",
       "    <tr>\n",
       "      <th>0</th>\n",
       "      <td>0</td>\n",
       "      <td>0.181</td>\n",
       "      <td>0.734</td>\n",
       "      <td>0.085</td>\n",
       "      <td>-0.5984</td>\n",
       "      <td>0.454877</td>\n",
       "      <td>0.440995</td>\n",
       "      <td>0.104129</td>\n",
       "      <td>|  Glasgow to London delayed by 1 hour. My wi...</td>\n",
       "    </tr>\n",
       "    <tr>\n",
       "      <th>1</th>\n",
       "      <td>1</td>\n",
       "      <td>0.021</td>\n",
       "      <td>0.828</td>\n",
       "      <td>0.151</td>\n",
       "      <td>0.9867</td>\n",
       "      <td>0.031609</td>\n",
       "      <td>0.171954</td>\n",
       "      <td>0.796437</td>\n",
       "      <td>|  When I tried to check in online, I was off...</td>\n",
       "    </tr>\n",
       "    <tr>\n",
       "      <th>2</th>\n",
       "      <td>2</td>\n",
       "      <td>0.078</td>\n",
       "      <td>0.849</td>\n",
       "      <td>0.073</td>\n",
       "      <td>0.2669</td>\n",
       "      <td>0.739790</td>\n",
       "      <td>0.203867</td>\n",
       "      <td>0.056342</td>\n",
       "      <td>|  I flew from Prague to LHR. Excellent servi...</td>\n",
       "    </tr>\n",
       "    <tr>\n",
       "      <th>3</th>\n",
       "      <td>3</td>\n",
       "      <td>0.297</td>\n",
       "      <td>0.703</td>\n",
       "      <td>0.000</td>\n",
       "      <td>-0.8999</td>\n",
       "      <td>0.926351</td>\n",
       "      <td>0.064960</td>\n",
       "      <td>0.008689</td>\n",
       "      <td>|  Disappointing again especially on business...</td>\n",
       "    </tr>\n",
       "    <tr>\n",
       "      <th>4</th>\n",
       "      <td>4</td>\n",
       "      <td>0.058</td>\n",
       "      <td>0.942</td>\n",
       "      <td>0.000</td>\n",
       "      <td>-0.5423</td>\n",
       "      <td>0.948756</td>\n",
       "      <td>0.046086</td>\n",
       "      <td>0.005158</td>\n",
       "      <td>|  During both the outbound and return flight...</td>\n",
       "    </tr>\n",
       "    <tr>\n",
       "      <th>...</th>\n",
       "      <td>...</td>\n",
       "      <td>...</td>\n",
       "      <td>...</td>\n",
       "      <td>...</td>\n",
       "      <td>...</td>\n",
       "      <td>...</td>\n",
       "      <td>...</td>\n",
       "      <td>...</td>\n",
       "      <td>...</td>\n",
       "    </tr>\n",
       "    <tr>\n",
       "      <th>93</th>\n",
       "      <td>95</td>\n",
       "      <td>0.093</td>\n",
       "      <td>0.856</td>\n",
       "      <td>0.052</td>\n",
       "      <td>-0.6844</td>\n",
       "      <td>0.656587</td>\n",
       "      <td>0.268512</td>\n",
       "      <td>0.074901</td>\n",
       "      <td>|  The A80 is a wonderful aircraft - quieter ...</td>\n",
       "    </tr>\n",
       "    <tr>\n",
       "      <th>94</th>\n",
       "      <td>96</td>\n",
       "      <td>0.131</td>\n",
       "      <td>0.742</td>\n",
       "      <td>0.127</td>\n",
       "      <td>-0.0800</td>\n",
       "      <td>0.104892</td>\n",
       "      <td>0.378724</td>\n",
       "      <td>0.516383</td>\n",
       "      <td>|  LHR to SFO in new Club Suite. Rather chaot...</td>\n",
       "    </tr>\n",
       "    <tr>\n",
       "      <th>95</th>\n",
       "      <td>97</td>\n",
       "      <td>0.114</td>\n",
       "      <td>0.826</td>\n",
       "      <td>0.059</td>\n",
       "      <td>-0.5983</td>\n",
       "      <td>0.941323</td>\n",
       "      <td>0.052358</td>\n",
       "      <td>0.006319</td>\n",
       "      <td>| Covid form is broken - Called customer serv...</td>\n",
       "    </tr>\n",
       "    <tr>\n",
       "      <th>96</th>\n",
       "      <td>98</td>\n",
       "      <td>0.070</td>\n",
       "      <td>0.766</td>\n",
       "      <td>0.163</td>\n",
       "      <td>0.9891</td>\n",
       "      <td>0.345992</td>\n",
       "      <td>0.409268</td>\n",
       "      <td>0.244740</td>\n",
       "      <td>Feels like BA are putting the 'economy' back ...</td>\n",
       "    </tr>\n",
       "    <tr>\n",
       "      <th>97</th>\n",
       "      <td>99</td>\n",
       "      <td>0.123</td>\n",
       "      <td>0.822</td>\n",
       "      <td>0.055</td>\n",
       "      <td>-0.8301</td>\n",
       "      <td>0.848449</td>\n",
       "      <td>0.130321</td>\n",
       "      <td>0.021230</td>\n",
       "      <td>Phoenix to London Heathrow and then to Hambur...</td>\n",
       "    </tr>\n",
       "  </tbody>\n",
       "</table>\n",
       "<p>98 rows × 9 columns</p>\n",
       "</div>"
      ],
      "text/plain": [
       "    index  vader_neg  vader_neu  vader_pos  vader_compound  roberta_neg  \\\n",
       "0       0      0.181      0.734      0.085         -0.5984     0.454877   \n",
       "1       1      0.021      0.828      0.151          0.9867     0.031609   \n",
       "2       2      0.078      0.849      0.073          0.2669     0.739790   \n",
       "3       3      0.297      0.703      0.000         -0.8999     0.926351   \n",
       "4       4      0.058      0.942      0.000         -0.5423     0.948756   \n",
       "..    ...        ...        ...        ...             ...          ...   \n",
       "93     95      0.093      0.856      0.052         -0.6844     0.656587   \n",
       "94     96      0.131      0.742      0.127         -0.0800     0.104892   \n",
       "95     97      0.114      0.826      0.059         -0.5983     0.941323   \n",
       "96     98      0.070      0.766      0.163          0.9891     0.345992   \n",
       "97     99      0.123      0.822      0.055         -0.8301     0.848449   \n",
       "\n",
       "    roberta_neu  roberta_pos  \\\n",
       "0      0.440995     0.104129   \n",
       "1      0.171954     0.796437   \n",
       "2      0.203867     0.056342   \n",
       "3      0.064960     0.008689   \n",
       "4      0.046086     0.005158   \n",
       "..          ...          ...   \n",
       "93     0.268512     0.074901   \n",
       "94     0.378724     0.516383   \n",
       "95     0.052358     0.006319   \n",
       "96     0.409268     0.244740   \n",
       "97     0.130321     0.021230   \n",
       "\n",
       "                                                 Text  \n",
       "0    |  Glasgow to London delayed by 1 hour. My wi...  \n",
       "1    |  When I tried to check in online, I was off...  \n",
       "2    |  I flew from Prague to LHR. Excellent servi...  \n",
       "3    |  Disappointing again especially on business...  \n",
       "4    |  During both the outbound and return flight...  \n",
       "..                                                ...  \n",
       "93   |  The A80 is a wonderful aircraft - quieter ...  \n",
       "94   |  LHR to SFO in new Club Suite. Rather chaot...  \n",
       "95   | Covid form is broken - Called customer serv...  \n",
       "96   Feels like BA are putting the 'economy' back ...  \n",
       "97   Phoenix to London Heathrow and then to Hambur...  \n",
       "\n",
       "[98 rows x 9 columns]"
      ]
     },
     "execution_count": 40,
     "metadata": {},
     "output_type": "execute_result"
    }
   ],
   "source": [
    "results_df = pd.DataFrame(res).T\n",
    "results_df = results_df.reset_index().merge(df2, how='left')\n",
    "results_df"
   ]
  },
  {
   "cell_type": "markdown",
   "id": "47c3bbb6",
   "metadata": {},
   "source": [
    "## Compare Vader and Roberta Results"
   ]
  },
  {
   "cell_type": "code",
   "execution_count": 41,
   "id": "7d7b5737",
   "metadata": {},
   "outputs": [
    {
     "data": {
      "image/png": "[encoded data removed]",
      "text/plain": [
       "<Figure size 1080x1080 with 42 Axes>"
      ]
     },
     "metadata": {
      "needs_background": "light"
     },
     "output_type": "display_data"
    }
   ],
   "source": [
    "import seaborn as sns\n",
    "sns.pairplot(data=results_df, \n",
    "             vars=['vader_neg', 'vader_neu', 'vader_pos',\n",
    "                  'roberta_neg', 'roberta_neu', 'roberta_pos'],\n",
    "             palette='tab10')\n",
    "plt.show()"
   ]
  },
  {
   "cell_type": "markdown",
   "id": "a5aa4a32",
   "metadata": {},
   "source": [
    "As we can see there are some sort of correlation between Vader and Roberta results"
   ]
  },
  {
   "cell_type": "code",
   "execution_count": 110,
   "id": "cc421d1e",
   "metadata": {
    "scrolled": false
   },
   "outputs": [
    {
     "data": {
      "image/png": "[encoded data removed]",
      "text/plain": [
       "<Figure size 432x288 with 1 Axes>"
      ]
     },
     "metadata": {
      "needs_background": "light"
     },
     "output_type": "display_data"
    }
   ],
   "source": [
    "#fig, ax = plt.subplots(2, 1, figsize=(16, 5))\n",
    "sns.histplot([results_df.query('roberta_neg >= 0.5')['roberta_neg'], \n",
    "              results_df.query('roberta_pos >= 0.5')['roberta_pos']],\n",
    "              palette = 'PuBu')\n",
    "plt.xlabel('Score')\n",
    "plt.title('Negative/Positive Reviews Comparative Histograms', fontsize=16)\n",
    "plt.show()"
   ]
  },
  {
   "cell_type": "code",
   "execution_count": 111,
   "id": "fe98011d",
   "metadata": {},
   "outputs": [
    {
     "data": {
      "image/png": "[encoded data removed]",
      "text/plain": [
       "<Figure size 432x288 with 1 Axes>"
      ]
     },
     "metadata": {
      "needs_background": "light"
     },
     "output_type": "display_data"
    }
   ],
   "source": [
    "sns.histplot(results_df['roberta_neu'],  color = 'orange')\n",
    "plt.title('Neutral Reviews Score', fontsize=16)\n",
    "plt.xlabel('Score')\n",
    "plt.show()"
   ]
  },
  {
   "cell_type": "code",
   "execution_count": null,
   "id": "7171e55d",
   "metadata": {},
   "outputs": [],
   "source": []
  }
 ],
 "metadata": {
  "kernelspec": {
   "display_name": "Python 3 (ipykernel)",
   "language": "python",
   "name": "python3"
  },
  "language_info": {
   "codemirror_mode": {
    "name": "ipython",
    "version": 3
   },
   "file_extension": ".py",
   "mimetype": "text/x-python",
   "name": "python",
   "nbconvert_exporter": "python",
   "pygments_lexer": "ipython3",
   "version": "3.9.7"
  }
 },
 "nbformat": 4,
 "nbformat_minor": 5
}
